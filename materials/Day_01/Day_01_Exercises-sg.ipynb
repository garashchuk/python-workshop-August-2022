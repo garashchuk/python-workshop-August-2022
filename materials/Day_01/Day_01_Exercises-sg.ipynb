{
 "cells": [
  {
   "cell_type": "markdown",
   "id": "6d3a91b1",
   "metadata": {},
   "source": [
    "#### Problem 1: \n",
    "(a) A variable named var_x takes any input you assign. The input value should be an integer. If the input is float or object or string, print \"invalid input\". \n",
    "\n",
    "(b) Now, pass this var_x to another variable named var_y. Then print that \"second variable received the number (it should show the input value) from the first variable\".\n",
    "\n",
    "Hint: \n",
    "\n",
    "1. The syntax to check python datatype is type(var_y) where you want to check the type of var_y i.e. whether it is a string or an integer.\n",
    "\n",
    "2. Search Problem1 in the other notebook."
   ]
  },
  {
   "cell_type": "code",
   "execution_count": 1,
   "id": "6e619d41",
   "metadata": {},
   "outputs": [
    {
     "name": "stdout",
     "output_type": "stream",
     "text": [
      "Input an integer: 3\n",
      "second variable received the number 3\n"
     ]
    }
   ],
   "source": [
    "#(a)\n",
    "#try:\n",
    " #   var_x = int(input('Input an integer: '))\n",
    "  #  print(var_x)\n",
    "#except:\n",
    " #  raise Exception('The input needs to be an integer!')\n",
    "var_x = int(input('Input an integer: '))\n",
    "if type(var_x) != int:\n",
    "    print(\"invalid input\")\n",
    "#(b)\n",
    "var_y = var_x\n",
    "print('second variable received the number {}'.format(var_y))\n"
   ]
  },
  {
   "cell_type": "markdown",
   "id": "04c4359a",
   "metadata": {},
   "source": [
    "#### Problem 2 \n",
    "\n",
    "You are given a chemical formula. Your should decide whether it is alkene or alkane. If it is none of them, then print \"invalid formula\"\n",
    "\n",
    "formula for Alkene is $C_{n}H_{2n}$ and formula for Alkane is $C_{n}H_{2n+2}$.\n",
    "\n",
    "Check the following cases:\n",
    "(i) C2H4  (ii) C2H6 (iii)C2H5\n",
    "\n",
    "\n",
    "Conditions: Length of the up_formula should be 4. Otherwise, print \"invalid\"\n",
    "\n",
    "\n",
    "Hints: (1) Search Problem2 in the other notebook.\n",
    "\n",
    "(2) To access nth element of a list use your_list[n-1].\n",
    "\n",
    "(3) change datatype of any element in the list if needed. for example x=['a','2'] . To make the last element an integer, do x[1]=int(x[1])"
   ]
  },
  {
   "cell_type": "code",
   "execution_count": 2,
   "id": "75a5d41d",
   "metadata": {},
   "outputs": [
    {
     "name": "stdout",
     "output_type": "stream",
     "text": [
      "c2h6\n"
     ]
    },
    {
     "data": {
      "text/plain": [
       "4"
      ]
     },
     "execution_count": 2,
     "metadata": {},
     "output_type": "execute_result"
    }
   ],
   "source": [
    "formula=input() \n",
    "up_formula=list(formula)\n",
    "molecule =''.join(up_formula)\n",
    "up_formula[1]=int(up_formula[1])\n",
    "up_formula[3]=int(up_formula[3])\n",
    "len(up_formula)"
   ]
  },
  {
   "cell_type": "code",
   "execution_count": 3,
   "id": "87dadfab",
   "metadata": {},
   "outputs": [
    {
     "name": "stdout",
     "output_type": "stream",
     "text": [
      "C2H6 is an Alkane\n"
     ]
    }
   ],
   "source": [
    "#Use the above 2 lines of code as a starting point for problem 2. Write formula = (i) C2H4, (ii) C2H6 , (iii) C2H5 \n",
    "if(len(up_formula) != 4):\n",
    "    print(\"invalid formula\")\n",
    "ratE = up_formula[3]/up_formula[1]\n",
    "ratA = (up_formula[3] - 2)/up_formula[1]\n",
    "if( ratE == 2):\n",
    "   # print(\"{} is an Alkene\".format(up_formula))\n",
    "    print(\"{} is an Alkene\".format(molecule.upper()))\n",
    "elif( ratA == 2):\n",
    "    print(\"{} is an Alkane\".format(molecule.upper()))\n",
    "else:\n",
    "    print(\"{} Neither Alkene nor Alkane\".format(molecule.upper()))\n",
    "\n"
   ]
  },
  {
   "cell_type": "markdown",
   "id": "f8549883",
   "metadata": {},
   "source": [
    "#### Problem 3: \n",
    "\n",
    "You are given a string and your code should decide whether it is a palindrome sequence or not.\n",
    "Palindrome: input == reverse(input) (when input and reverse of the input are same, then it is a palindrome)\n",
    "\n",
    "Hint: reverse a string using the command ''.join(reversed(x)) while x is the input string."
   ]
  },
  {
   "cell_type": "code",
   "execution_count": 9,
   "id": "06a60a47",
   "metadata": {},
   "outputs": [
    {
     "name": "stdout",
     "output_type": "stream",
     "text": [
      "abccba is a palyndrome\n"
     ]
    }
   ],
   "source": [
    "x=\"abccba\"\n",
    "\n",
    "#write your solution here using ''.join(reversed(x)) function.\n",
    "\n",
    "xinv = ''.join(reversed(x))\n",
    "\n",
    "if(xinv == x):\n",
    "    print(\"{} is a palyndrome\".format(x))"
   ]
  },
  {
   "cell_type": "markdown",
   "id": "aed7fab2",
   "metadata": {},
   "source": [
    "Let's solve the problem in a complex process. Lets reverse the list by picking last element using pop. Here is the pseudocode:\n",
    "\n",
    "1. take input\n",
    "2. declare a variable called new_var=[]\n",
    "3. store input to another variable\n",
    "4. while len(input)>0:\n",
    "        a)take last element of input \n",
    "        b) append this to new_var\n",
    "        c) remove the element from input\n",
    "5. Check if input==new_var\n",
    "6. If matches, print a palindrome else print not a palindrome\n",
    "        \n",
    "Finish the following code:"
   ]
  },
  {
   "cell_type": "code",
   "execution_count": 10,
   "id": "f74c0b50",
   "metadata": {},
   "outputs": [
    {
     "name": "stdout",
     "output_type": "stream",
     "text": [
      "6\n",
      "['d', 'b', 'c', 'c', 'b', 'a']\n",
      "['a', 'b', 'c', 'c', 'b', 'd']\n",
      "abccbd is NOT a palyndrome \n"
     ]
    }
   ],
   "source": [
    "#### Problem 3.1: \n",
    "#search Problem 3.1 in the other notebook\n",
    "x=\"abccbd\"\n",
    "x=list(x)\n",
    "new_var=[]\n",
    "y=x.copy()\n",
    "print(len(y))\n",
    "\n",
    "while len(y)>0 : #something is missing here in this line, look at the pseudocode \n",
    "    last_element=y[len(y)-1] # (4a) it takes last element of input \n",
    "    new_var.append(last_element)                         # implement/ write code for 4(b)\n",
    "    y.pop(len(y)-1)          # (4c) it is removing the element from the input\n",
    "  #  print(len(y))\n",
    "print(new_var)\n",
    "print(x)\n",
    "xprint = ''.join(x) \n",
    "if x == new_var:\n",
    "    print('{} is a palyndrome '.format(xprint)) # fillup\n",
    "else:\n",
    "    print('{} is NOT a palyndrome '.format(xprint)) #fillup"
   ]
  },
  {
   "cell_type": "code",
   "execution_count": null,
   "id": "f7579a38",
   "metadata": {},
   "outputs": [],
   "source": []
  },
  {
   "cell_type": "markdown",
   "id": "3b6c9dd1",
   "metadata": {},
   "source": [
    "### Problem 4: You are given a dictionary. The keys of it are key_A and key_B. Print the keys using a for loop. Then find the average of both of the keys.\n",
    "\n",
    "Hint: Search by typing Problem4 in the other notebook"
   ]
  },
  {
   "cell_type": "code",
   "execution_count": 13,
   "id": "48dc8be7",
   "metadata": {},
   "outputs": [
    {
     "name": "stdout",
     "output_type": "stream",
     "text": [
      "dict_keys(['key_A', 'key_B'])\n",
      "1\n",
      "2\n",
      "3\n",
      "4\n",
      "average for list1 is 2.5\n",
      "5\n",
      "6\n",
      "7\n",
      "8\n",
      "average for list2 is 6.5\n"
     ]
    }
   ],
   "source": [
    "list1=[1,2,3,4]\n",
    "list2=[5,6,7,8]\n",
    "\n",
    "dictionary_Y={ 'key_A':list1, 'key_B':list2}\n",
    "print(dictionary_Y.keys())\n",
    "dictionary_Y\n",
    "sum1 = 0\n",
    "imax = len(list1)\n",
    "for i in range(imax):\n",
    "    print(list1[i])\n",
    "    sum1 = sum1+list1[i]\n",
    "print(\"average for list1 is {}\".format(sum1/imax))\n",
    "sum1 = 0\n",
    "imax = len(list2)\n",
    "for i in range(imax):\n",
    "    print(list2[i])\n",
    "    sum1 = sum1+list2[i]\n",
    "print(\"average for list2 is {}\".format(sum1/imax))\n"
   ]
  },
  {
   "cell_type": "code",
   "execution_count": null,
   "id": "1c3a502c",
   "metadata": {},
   "outputs": [],
   "source": []
  },
  {
   "cell_type": "code",
   "execution_count": null,
   "id": "65703b40",
   "metadata": {},
   "outputs": [],
   "source": []
  }
 ],
 "metadata": {
  "kernelspec": {
   "display_name": "Python 3",
   "language": "python",
   "name": "python3"
  },
  "language_info": {
   "codemirror_mode": {
    "name": "ipython",
    "version": 3
   },
   "file_extension": ".py",
   "mimetype": "text/x-python",
   "name": "python",
   "nbconvert_exporter": "python",
   "pygments_lexer": "ipython3",
   "version": "3.8.8"
  }
 },
 "nbformat": 4,
 "nbformat_minor": 5
}
