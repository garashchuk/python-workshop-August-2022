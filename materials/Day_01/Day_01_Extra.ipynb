{
 "cells": [
  {
   "cell_type": "markdown",
   "id": "bc52f327",
   "metadata": {},
   "source": [
    "##  (P1) [Basics of Python](https://docs.python.org/3/tutorial/inputoutput.html)\n",
    "\n",
    "- (A) printing hello world !"
   ]
  },
  {
   "cell_type": "markdown",
   "id": "a7d72419",
   "metadata": {},
   "source": [
    "To write a sentence or word or a character at first we should use buit-in python function print(). Then we need to put the text in the form of print(\"your text\") or print('your text'). Text is called string in Python."
   ]
  },
  {
   "cell_type": "code",
   "execution_count": 29,
   "id": "1ef32aad",
   "metadata": {},
   "outputs": [
    {
     "name": "stdout",
     "output_type": "stream",
     "text": [
      "Hello there\n"
     ]
    }
   ],
   "source": [
    "print(\"Hello there\")\n",
    "#print(hello there)\n",
    "#print('hello there')\n",
    "#print('hello there)\n",
    "# print('hello there')\n",
    "# print('hello there)"
   ]
  },
  {
   "cell_type": "markdown",
   "id": "886fb9af",
   "metadata": {},
   "source": [
    "(B) printing numeric values. \n",
    "\n",
    "- If the numeric value does not have decimals, it is integer. \n",
    "- If numeric value has decimal, it is called float."
   ]
  },
  {
   "cell_type": "code",
   "execution_count": 12,
   "id": "0015b53b",
   "metadata": {},
   "outputs": [
    {
     "name": "stdout",
     "output_type": "stream",
     "text": [
      "1.5\n"
     ]
    }
   ],
   "source": [
    "# print(1.2)\n",
    "# print(1e2)\n",
    "print(1.5)"
   ]
  },
  {
   "cell_type": "markdown",
   "id": "b787fc2d",
   "metadata": {},
   "source": [
    "- (C) **Define** a variable. Assign a value and then print it."
   ]
  },
  {
   "cell_type": "code",
   "execution_count": 14,
   "id": "9cc8c992",
   "metadata": {},
   "outputs": [
    {
     "name": "stdout",
     "output_type": "stream",
     "text": [
      "weather\n"
     ]
    }
   ],
   "source": [
    "variable_a='weather'\n",
    "print(variable_a)\n"
   ]
  },
  {
   "cell_type": "markdown",
   "id": "06c09d90",
   "metadata": {},
   "source": [
    "- (D) Print string and numeric value using the print function.\n",
    "\n",
    "You want to write something like: The workshop will be held during the month of var_a in the year of var_b."
   ]
  },
  {
   "cell_type": "code",
   "execution_count": 13,
   "id": "da092176",
   "metadata": {},
   "outputs": [
    {
     "name": "stdout",
     "output_type": "stream",
     "text": [
      "The workshop will be held during the month of:  July  in the year:  2022\n"
     ]
    }
   ],
   "source": [
    "var_a=\"July\"\n",
    "var_b=2022\n",
    "print(\"The workshop will be held during the month of: \",var_a,\" in the year: \", var_b)"
   ]
  },
  {
   "cell_type": "markdown",
   "id": "98d2d44c",
   "metadata": {},
   "source": [
    "- (E) [Basic arithmetic operations](https://www.w3schools.com/python/python_operators.asp)"
   ]
  },
  {
   "cell_type": "code",
   "execution_count": null,
   "id": "f1204632",
   "metadata": {},
   "outputs": [],
   "source": [
    "5+4"
   ]
  },
  {
   "cell_type": "code",
   "execution_count": null,
   "id": "aa9c5f03",
   "metadata": {},
   "outputs": [],
   "source": [
    "5**2"
   ]
  },
  {
   "cell_type": "code",
   "execution_count": 4,
   "id": "eda660de",
   "metadata": {},
   "outputs": [
    {
     "ename": "NameError",
     "evalue": "name 'a' is not defined",
     "output_type": "error",
     "traceback": [
      "\u001b[1;31m---------------------------------------------------------------------------\u001b[0m",
      "\u001b[1;31mNameError\u001b[0m                                 Traceback (most recent call last)",
      "\u001b[1;32m<ipython-input-4-ac686954dc0d>\u001b[0m in \u001b[0;36m<module>\u001b[1;34m\u001b[0m\n\u001b[1;32m----> 1\u001b[1;33m \u001b[0ma\u001b[0m\u001b[1;33m*\u001b[0m\u001b[0ma\u001b[0m\u001b[1;33m\u001b[0m\u001b[1;33m\u001b[0m\u001b[0m\n\u001b[0m",
      "\u001b[1;31mNameError\u001b[0m: name 'a' is not defined"
     ]
    }
   ],
   "source": [
    "a*a"
   ]
  },
  {
   "cell_type": "code",
   "execution_count": 13,
   "id": "bc37449e",
   "metadata": {},
   "outputs": [
    {
     "name": "stdout",
     "output_type": "stream",
     "text": [
      "25\n"
     ]
    }
   ],
   "source": [
    "a=5\n",
    "print(a*a)\n",
    "\n"
   ]
  },
  {
   "cell_type": "code",
   "execution_count": 14,
   "id": "eb1a2baa",
   "metadata": {},
   "outputs": [
    {
     "data": {
      "text/plain": [
       "1"
      ]
     },
     "execution_count": 14,
     "metadata": {},
     "output_type": "execute_result"
    }
   ],
   "source": [
    "10%3 #Modulus operation"
   ]
  },
  {
   "cell_type": "markdown",
   "id": "eb8e44fd",
   "metadata": {},
   "source": [
    "\n",
    "\n",
    "- (F) Formatting numbers during printing (this can be boring, I can remove this)"
   ]
  },
  {
   "cell_type": "code",
   "execution_count": 22,
   "id": "9c6f6e1d",
   "metadata": {},
   "outputs": [
    {
     "name": "stdout",
     "output_type": "stream",
     "text": [
      "2.35e+03\n",
      "2,345.6789\n"
     ]
    }
   ],
   "source": [
    "x = 2345.6789 # f-string version\n",
    "print(f\"{x:.3}\") # will print 2.35+e03\n",
    "\n",
    "print(f\"{x:,}\") # separated by comma, will print 2,345.6789\n",
    "\n",
    "\n",
    "# y=3.587123e4\n",
    "# print(f\"{y:f}\")\n",
    "\n",
    "# total=16\n",
    "# present=14 \n",
    "\n",
    "# print(f\"Only  {present / total :.2%} people showed up in the event\")\n",
    "\n",
    "\n",
    "# print('Floating point numbers: %1.4f' %(100/33))"
   ]
  },
  {
   "cell_type": "markdown",
   "id": "54c49e1e",
   "metadata": {},
   "source": [
    "- Take user input ( some of Problem1 codes are here )"
   ]
  },
  {
   "cell_type": "code",
   "execution_count": 1,
   "id": "c6af609c",
   "metadata": {},
   "outputs": [
    {
     "name": "stdout",
     "output_type": "stream",
     "text": [
      "Ross Taylor\n",
      "25\n",
      "The user entered their name as  Ross Taylor  and their age as  25\n"
     ]
    }
   ],
   "source": [
    "name=input()\n",
    "age=int(input())\n",
    "\n",
    "print(\"The user entered their name as \",name,\" and their age as \",age)"
   ]
  },
  {
   "cell_type": "markdown",
   "id": "ab32d992",
   "metadata": {},
   "source": [
    "### Flow Control"
   ]
  },
  {
   "cell_type": "code",
   "execution_count": 5,
   "id": "27ee2974",
   "metadata": {},
   "outputs": [
    {
     "name": "stdout",
     "output_type": "stream",
     "text": [
      "Input an integer: 10\n",
      "The input is larger than 9.\n"
     ]
    }
   ],
   "source": [
    "# Problem2 codes can be found here.\n",
    "\n",
    "\n",
    "x = int(input('Input an integer: '))\n",
    "if x > 9:\n",
    "    print('The input is larger than 9.')\n",
    "elif x < 3:\n",
    "    print('The input is smaller than 3')\n",
    "else:\n",
    "    print('The input is between 3 and 9')"
   ]
  },
  {
   "cell_type": "code",
   "execution_count": 2,
   "id": "6c659e53",
   "metadata": {},
   "outputs": [
    {
     "name": "stdout",
     "output_type": "stream",
     "text": [
      "5  is not 2\n"
     ]
    }
   ],
   "source": [
    "#if not\n",
    "x=5\n",
    "if x!=2:\n",
    "    print(x,\" is not 2\")"
   ]
  },
  {
   "cell_type": "markdown",
   "id": "90a50ff5",
   "metadata": {},
   "source": [
    "### [(P2) Getting started with list and for loop in Python](https://docs.python.org/3/tutorial/datastructures.html)"
   ]
  },
  {
   "cell_type": "code",
   "execution_count": 1,
   "id": "6c46027a",
   "metadata": {},
   "outputs": [
    {
     "name": "stdout",
     "output_type": "stream",
     "text": [
      "The members in the list are:  [5, 6, 7, 8]\n",
      "The first element in the list1 is:  2\n"
     ]
    }
   ],
   "source": [
    "list1=[1,2,3,4]\n",
    "list2=[5,6,7,8]\n",
    "\n",
    "\n",
    "\n",
    "print(\"The members in the list are: \",list2)\n",
    "\n",
    "print(\"The first element in the list1 is: \",list1[1]) "
   ]
  },
  {
   "cell_type": "markdown",
   "id": "4af75d6b",
   "metadata": {},
   "source": [
    "- (H) Print all elements of the above list using for loop"
   ]
  },
  {
   "cell_type": "code",
   "execution_count": 58,
   "id": "661c29fc",
   "metadata": {},
   "outputs": [
    {
     "name": "stdout",
     "output_type": "stream",
     "text": [
      "5\n",
      "6\n",
      "7\n"
     ]
    }
   ],
   "source": [
    "for element in list2:\n",
    "    print(element)"
   ]
  },
  {
   "cell_type": "markdown",
   "id": "e8c75ef6",
   "metadata": {},
   "source": [
    "- (I) print both lists together"
   ]
  },
  {
   "cell_type": "code",
   "execution_count": 70,
   "id": "e6420848",
   "metadata": {},
   "outputs": [
    {
     "name": "stdout",
     "output_type": "stream",
     "text": [
      "1 5\n",
      "2 6\n",
      "3 7\n",
      "4 8\n"
     ]
    }
   ],
   "source": [
    "list1=[1,2,3,4]\n",
    "list2=[5,6,7,8]\n",
    "for (el,ev) in zip(list1,list2):\n",
    "    print(el,ev)"
   ]
  },
  {
   "cell_type": "markdown",
   "id": "9ba30ec7",
   "metadata": {},
   "source": [
    "- (J) print list elements with index"
   ]
  },
  {
   "cell_type": "code",
   "execution_count": 75,
   "id": "bddbff09",
   "metadata": {},
   "outputs": [
    {
     "name": "stdout",
     "output_type": "stream",
     "text": [
      "index number:  0  element number:  1\n",
      "index number:  1  element number:  2\n",
      "index number:  2  element number:  3\n",
      "index number:  3  element number:  4\n"
     ]
    }
   ],
   "source": [
    "for indx,el in enumerate(list1):\n",
    "    print(\"index number: \",indx,\" element number: \",el)"
   ]
  },
  {
   "cell_type": "markdown",
   "id": "f13a50fb",
   "metadata": {},
   "source": [
    "- (k) Using format style "
   ]
  },
  {
   "cell_type": "code",
   "execution_count": 36,
   "id": "d75f3f37",
   "metadata": {},
   "outputs": [
    {
     "name": "stdout",
     "output_type": "stream",
     "text": [
      "member = A\n",
      "member = B\n",
      "member = C\n",
      "member = A5\n"
     ]
    }
   ],
   "source": [
    "members=['A','B','C','A5']\n",
    "\n",
    "for x in range(len(members)):\n",
    "    print('member = {}'.format(members[x]))"
   ]
  },
  {
   "cell_type": "markdown",
   "id": "11740be5",
   "metadata": {},
   "source": [
    "- Count number of specific events in the list. \n",
    "\n",
    "Suppose you are given a list and you want to count how many elements are 9 there. "
   ]
  },
  {
   "cell_type": "code",
   "execution_count": 3,
   "id": "19464ab1",
   "metadata": {},
   "outputs": [
    {
     "name": "stdout",
     "output_type": "stream",
     "text": [
      "9 occur  3  times\n"
     ]
    }
   ],
   "source": [
    "# Problem2 codes can be found here.\n",
    "\n",
    "list_x= [1,2,4,9,0,-5,9,9]  \n",
    "\n",
    "c=0\n",
    "\n",
    "for value in list_x:\n",
    "    if value==9:\n",
    "        c=c+1\n",
    "print(\"9 occur \",c,\" times\")"
   ]
  },
  {
   "cell_type": "markdown",
   "id": "da461543",
   "metadata": {},
   "source": [
    "#### List operations"
   ]
  },
  {
   "cell_type": "code",
   "execution_count": 7,
   "id": "979d38d8",
   "metadata": {},
   "outputs": [
    {
     "name": "stdout",
     "output_type": "stream",
     "text": [
      "[1]\n",
      "[1, 10]\n"
     ]
    }
   ],
   "source": [
    "#search Problem 3.1 in the other notebook\n",
    "\n",
    "new_list=[]\n",
    "#Append value \n",
    "new_list.append(1)\n",
    "print(new_list)\n",
    "new_list.append(10)\n",
    "print(new_list)"
   ]
  },
  {
   "cell_type": "code",
   "execution_count": 51,
   "id": "cdc2d94a",
   "metadata": {},
   "outputs": [
    {
     "name": "stdout",
     "output_type": "stream",
     "text": [
      "[1, 11, 121, 1221, 122221]\n"
     ]
    }
   ],
   "source": [
    "# remove element from a list\n",
    "new_list=[1,11,121,1221,122221,19]\n",
    "new_list.remove(19)\n",
    "\n",
    "print(new_list)"
   ]
  },
  {
   "cell_type": "code",
   "execution_count": 52,
   "id": "e03cdec2",
   "metadata": {},
   "outputs": [
    {
     "data": {
      "text/plain": [
       "99"
      ]
     },
     "execution_count": 52,
     "metadata": {},
     "output_type": "execute_result"
    }
   ],
   "source": [
    "# pop element\n",
    "\n",
    "\n",
    "new_list=[1,11,121,9,99]\n",
    "new_list.pop()\n"
   ]
  },
  {
   "cell_type": "code",
   "execution_count": 56,
   "id": "1ef7cb6d",
   "metadata": {},
   "outputs": [
    {
     "name": "stdout",
     "output_type": "stream",
     "text": [
      "[1221, 121, 11, 1]\n"
     ]
    }
   ],
   "source": [
    "# reverse a list\n",
    "\n",
    "new_list=[1,11,121,1221]\n",
    "new_list.reverse()\n",
    "print(new_list)"
   ]
  },
  {
   "cell_type": "markdown",
   "id": "b4bcf8e1",
   "metadata": {},
   "source": [
    "##  [Exception handling](https://docs.python.org/3/tutorial/errors.html)"
   ]
  },
  {
   "cell_type": "code",
   "execution_count": 13,
   "id": "058223b4",
   "metadata": {},
   "outputs": [
    {
     "name": "stdout",
     "output_type": "stream",
     "text": [
      "Input an integer: abc\n"
     ]
    },
    {
     "ename": "ValueError",
     "evalue": "invalid literal for int() with base 10: 'abc'",
     "output_type": "error",
     "traceback": [
      "\u001b[1;31m---------------------------------------------------------------------------\u001b[0m",
      "\u001b[1;31mValueError\u001b[0m                                Traceback (most recent call last)",
      "\u001b[1;32m<ipython-input-13-01241d968b38>\u001b[0m in \u001b[0;36m<module>\u001b[1;34m\u001b[0m\n\u001b[1;32m----> 1\u001b[1;33m \u001b[0mx\u001b[0m \u001b[1;33m=\u001b[0m \u001b[0mint\u001b[0m\u001b[1;33m(\u001b[0m\u001b[0minput\u001b[0m\u001b[1;33m(\u001b[0m\u001b[1;34m'Input an integer: '\u001b[0m\u001b[1;33m)\u001b[0m\u001b[1;33m)\u001b[0m\u001b[1;33m\u001b[0m\u001b[1;33m\u001b[0m\u001b[0m\n\u001b[0m\u001b[0;32m      2\u001b[0m \u001b[0mprint\u001b[0m\u001b[1;33m(\u001b[0m\u001b[0mlist\u001b[0m\u001b[1;33m(\u001b[0m\u001b[0mrange\u001b[0m\u001b[1;33m(\u001b[0m\u001b[0mx\u001b[0m\u001b[1;33m)\u001b[0m\u001b[1;33m)\u001b[0m\u001b[1;33m)\u001b[0m\u001b[1;33m\u001b[0m\u001b[1;33m\u001b[0m\u001b[0m\n\u001b[0;32m      3\u001b[0m \u001b[0mprint\u001b[0m\u001b[1;33m(\u001b[0m\u001b[1;34m\"You should input integer not anything else\"\u001b[0m\u001b[1;33m)\u001b[0m\u001b[1;33m\u001b[0m\u001b[1;33m\u001b[0m\u001b[0m\n",
      "\u001b[1;31mValueError\u001b[0m: invalid literal for int() with base 10: 'abc'"
     ]
    }
   ],
   "source": [
    "x = int(input('Input an integer: '))\n",
    "print(list(range(x)))\n",
    "print(\"You should input integer not anything else\")"
   ]
  },
  {
   "cell_type": "code",
   "execution_count": 11,
   "id": "5a441dae",
   "metadata": {},
   "outputs": [
    {
     "name": "stdout",
     "output_type": "stream",
     "text": [
      "Input an integer: acd\n",
      "You should input integer not anything else\n"
     ]
    }
   ],
   "source": [
    "try:\n",
    "    x = int(input('Input an integer: '))\n",
    "    print(list(range(x)))\n",
    "except:\n",
    "    print(\"You should input integer not anything else\")\n",
    "#     raise Exception('The input needs to be an integer!')"
   ]
  },
  {
   "cell_type": "markdown",
   "id": "a20063c9",
   "metadata": {},
   "source": [
    "## [Dictionary](https://pynative.com/python-dictionary-exercise-with-solutions/)"
   ]
  },
  {
   "cell_type": "code",
   "execution_count": 8,
   "id": "02e1a157",
   "metadata": {},
   "outputs": [
    {
     "name": "stdout",
     "output_type": "stream",
     "text": [
      "the keys are  dict_keys(['Elements', 'Z', 'Weight'])\n",
      "Elements\n",
      "Z\n",
      "Weight\n",
      "\n",
      "\n",
      "Member of key Elements ['Hydrogen', 'Oxygen', 'Sulfur', 'Tungsten', 'Europium']\n"
     ]
    }
   ],
   "source": [
    "# Problem4\n",
    "\n",
    "my_dictionary = {'Elements':['Hydrogen', 'Oxygen', 'Sulfur', 'Tungsten', 'Europium'],\\\n",
    "     'Z':[1,8,16,74,63],\\\n",
    "     'Weight':[1,16,32,184,152]}\n",
    "\n",
    "print(\"the keys are \",my_dictionary.keys())\n",
    "\n",
    "#using for loop\n",
    "for k in my_dictionary.keys():\n",
    "    print(k)\n",
    "print('\\n')\n",
    "print('Member of key Elements',my_dictionary['Elements'])"
   ]
  },
  {
   "cell_type": "code",
   "execution_count": 80,
   "id": "548d66a3",
   "metadata": {},
   "outputs": [
    {
     "data": {
      "text/html": [
       "<div>\n",
       "<style scoped>\n",
       "    .dataframe tbody tr th:only-of-type {\n",
       "        vertical-align: middle;\n",
       "    }\n",
       "\n",
       "    .dataframe tbody tr th {\n",
       "        vertical-align: top;\n",
       "    }\n",
       "\n",
       "    .dataframe thead th {\n",
       "        text-align: right;\n",
       "    }\n",
       "</style>\n",
       "<table border=\"1\" class=\"dataframe\">\n",
       "  <thead>\n",
       "    <tr style=\"text-align: right;\">\n",
       "      <th></th>\n",
       "      <th>Elements</th>\n",
       "      <th>Z</th>\n",
       "      <th>Weight</th>\n",
       "    </tr>\n",
       "  </thead>\n",
       "  <tbody>\n",
       "    <tr>\n",
       "      <th>0</th>\n",
       "      <td>Hydrogen</td>\n",
       "      <td>1</td>\n",
       "      <td>1</td>\n",
       "    </tr>\n",
       "    <tr>\n",
       "      <th>1</th>\n",
       "      <td>Oxygen</td>\n",
       "      <td>8</td>\n",
       "      <td>16</td>\n",
       "    </tr>\n",
       "    <tr>\n",
       "      <th>2</th>\n",
       "      <td>Sulfur</td>\n",
       "      <td>16</td>\n",
       "      <td>32</td>\n",
       "    </tr>\n",
       "    <tr>\n",
       "      <th>3</th>\n",
       "      <td>Tungsten</td>\n",
       "      <td>74</td>\n",
       "      <td>184</td>\n",
       "    </tr>\n",
       "    <tr>\n",
       "      <th>4</th>\n",
       "      <td>Europium</td>\n",
       "      <td>63</td>\n",
       "      <td>152</td>\n",
       "    </tr>\n",
       "  </tbody>\n",
       "</table>\n",
       "</div>"
      ],
      "text/plain": [
       "   Elements   Z  Weight\n",
       "0  Hydrogen   1       1\n",
       "1    Oxygen   8      16\n",
       "2    Sulfur  16      32\n",
       "3  Tungsten  74     184\n",
       "4  Europium  63     152"
      ]
     },
     "execution_count": 80,
     "metadata": {},
     "output_type": "execute_result"
    }
   ],
   "source": [
    "df=pd.DataFrame(my_dictionary)\n",
    "df"
   ]
  },
  {
   "cell_type": "markdown",
   "id": "585360a0",
   "metadata": {},
   "source": [
    "##  (P2) Using Basic Python packages\n",
    "\n"
   ]
  },
  {
   "cell_type": "code",
   "execution_count": 66,
   "id": "f61e7863",
   "metadata": {},
   "outputs": [],
   "source": [
    "import matplotlib.pyplot as plt\n",
    "import numpy as np\n",
    "import pandas as pd"
   ]
  },
  {
   "cell_type": "code",
   "execution_count": 67,
   "id": "ec7f2e49",
   "metadata": {},
   "outputs": [
    {
     "data": {
      "text/plain": [
       "'C:\\\\Users\\\\souri'"
      ]
     },
     "execution_count": 67,
     "metadata": {},
     "output_type": "execute_result"
    }
   ],
   "source": [
    "import os\n",
    "os.getcwd()"
   ]
  },
  {
   "cell_type": "code",
   "execution_count": 69,
   "id": "ffbb2ec5",
   "metadata": {},
   "outputs": [
    {
     "data": {
      "image/png": "[encoded data removed]",
      "text/plain": [
       "<Figure size 720x576 with 1 Axes>"
      ]
     },
     "metadata": {
      "needs_background": "light"
     },
     "output_type": "display_data"
    }
   ],
   "source": [
    "x=np.arange(1,100,1)\n",
    "y=np.arange(1,100,1)\n",
    "\n",
    "my_dictionary={\n",
    "    'var_x':x,\n",
    "    'var_y':y\n",
    "}\n",
    "\n",
    "plt.figure(figsize=(10,8))\n",
    "plt.plot(my_dictionary['var_x'],my_dictionary['var_y'])\n",
    "plt.xlabel('variable x',fontsize=15)\n",
    "plt.ylabel('variable y', fontsize=15)\n",
    "plt.title('A simple plot',fontsize=12)\n",
    "plt.show()"
   ]
  },
  {
   "cell_type": "code",
   "execution_count": 71,
   "id": "e2e544b9",
   "metadata": {},
   "outputs": [
    {
     "data": {
      "text/plain": [
       "Index(['sepal.length', 'sepal.width', 'petal.length', 'petal.width',\n",
       "       'variety'],\n",
       "      dtype='object')"
      ]
     },
     "execution_count": 71,
     "metadata": {},
     "output_type": "execute_result"
    }
   ],
   "source": [
    "df=pd.read_csv('iris.csv')\n",
    "\n",
    "df.columns"
   ]
  },
  {
   "cell_type": "code",
   "execution_count": 72,
   "id": "df1523d3",
   "metadata": {},
   "outputs": [
    {
     "data": {
      "image/png": "[encoded data removed]",
      "text/plain": [
       "<Figure size 360x360 with 1 Axes>"
      ]
     },
     "metadata": {
      "needs_background": "light"
     },
     "output_type": "display_data"
    }
   ],
   "source": [
    "plt.figure(figsize=(5,5))\n",
    "plt.scatter(df['sepal.length'],df['sepal.width'])\n",
    "plt.xlabel('sepal length',fontsize=15)\n",
    "plt.ylabel('sepal length', fontsize=15)\n",
    "plt.title('A simple scatter plot',fontsize=12)\n",
    "plt.show()"
   ]
  },
  {
   "cell_type": "code",
   "execution_count": 2,
   "id": "04099943",
   "metadata": {},
   "outputs": [],
   "source": [
    "import os"
   ]
  },
  {
   "cell_type": "markdown",
   "id": "6ca1b65f",
   "metadata": {},
   "source": [
    "- To make a directory/folder write: os.mkdir(\"name\")\n",
    "- To change to directory write: os.chdir(\"path of directory\")\n",
    "- To see the current directory, write: os.getcwd()\n",
    "- To list the available files of the directory write: os.listdir(\"*\")"
   ]
  },
  {
   "cell_type": "code",
   "execution_count": null,
   "id": "7a9d6ce1",
   "metadata": {},
   "outputs": [],
   "source": [
    "os.mkdir(\"folder_1\")\n",
    "print(os.getcwd())\n",
    "os.chdir(r'folder_1')\n",
    "print(os.getcwd())"
   ]
  },
  {
   "cell_type": "code",
   "execution_count": 25,
   "id": "3bc9e5c6",
   "metadata": {},
   "outputs": [
    {
     "data": {
      "text/plain": [
       "['modular.py',\n",
       " 'pyramidmaker.py',\n",
       " 'PyTutorial_01_Basics.ipynb',\n",
       " 'PyTutorial_02_Jupyter.ipynb',\n",
       " 'PyTutorial_03_Numerics.ipynb',\n",
       " 'PyTutorial_04_Visualization.ipynb',\n",
       " 'PyTutorial_05_AdvancedTopics.ipynb',\n",
       " 'PyTutorial_06_NichePackages.ipynb']"
      ]
     },
     "execution_count": 25,
     "metadata": {},
     "output_type": "execute_result"
    }
   ],
   "source": [
    "os.listdir(\".\")"
   ]
  },
  {
   "cell_type": "code",
   "execution_count": 15,
   "id": "496a921c",
   "metadata": {},
   "outputs": [
    {
     "data": {
      "text/plain": [
       "'C:\\\\Users\\\\souri'"
      ]
     },
     "execution_count": 15,
     "metadata": {},
     "output_type": "execute_result"
    }
   ],
   "source": [
    "import os\n",
    "os.getcwd()"
   ]
  },
  {
   "cell_type": "markdown",
   "id": "0656fffc",
   "metadata": {},
   "source": [
    "# Loading specific files using their extensions"
   ]
  },
  {
   "cell_type": "code",
   "execution_count": 17,
   "id": "6903b150",
   "metadata": {},
   "outputs": [],
   "source": [
    "import glob\n",
    "python_files=glob.glob(\"*ipynb\")\n",
    "\n"
   ]
  },
  {
   "cell_type": "code",
   "execution_count": 19,
   "id": "64fe92d0",
   "metadata": {},
   "outputs": [
    {
     "data": {
      "text/plain": [
       "['boston.csv',\n",
       " 'BostonHousing.csv',\n",
       " 'com.csv',\n",
       " 'combined.csv',\n",
       " 'csvs1234.csv',\n",
       " 'csvs1235.csv',\n",
       " 'csvs1253.csv',\n",
       " 'csvs1254.csv',\n",
       " 'csvs1272.csv',\n",
       " 'csvs1273.csv',\n",
       " 'csvs51458.csv',\n",
       " 'csvs51459.csv',\n",
       " 'csvs51477.csv',\n",
       " 'csvs51478.csv',\n",
       " 'csvs51496.csv',\n",
       " 'csvs51497.csv',\n",
       " 'gs48.csv',\n",
       " 'gs5.csv',\n",
       " 'Historic dataset on 2020 11 22_v7_Compleat(1).csv',\n",
       " 'PGCB_Demand_Data_2021.csv',\n",
       " 'tsample.csv']"
      ]
     },
     "execution_count": 19,
     "metadata": {},
     "output_type": "execute_result"
    }
   ],
   "source": [
    "csv_files=glob.glob(\"*csv\")\n",
    "csv_files"
   ]
  }
 ],
 "metadata": {
  "kernelspec": {
   "display_name": "Python 3",
   "language": "python",
   "name": "python3"
  },
  "language_info": {
   "codemirror_mode": {
    "name": "ipython",
    "version": 3
   },
   "file_extension": ".py",
   "mimetype": "text/x-python",
   "name": "python",
   "nbconvert_exporter": "python",
   "pygments_lexer": "ipython3",
   "version": "3.8.8"
  }
 },
 "nbformat": 4,
 "nbformat_minor": 5
}
