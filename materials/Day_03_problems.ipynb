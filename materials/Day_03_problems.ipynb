{
 "cells": [
  {
   "cell_type": "markdown",
   "id": "1e1691a2",
   "metadata": {},
   "source": [
    "#### Problem 1\n",
    "\n",
    "Lets write a simple function called \"pow_list\" that will use use the list of numbers and return another list which gives nth power \n",
    "of each entries in that list. eg if [1,2,3] is the list its square (n=2) would return [1,4,9] and cube (n=3) would \n",
    "be [1,8,27] and so on."
   ]
  },
  {
   "cell_type": "code",
   "execution_count": 1,
   "id": "b374add6",
   "metadata": {},
   "outputs": [],
   "source": [
    "# Lets define the function called 'pow_list' first:\n",
    "# Lets take list_input and n as the arguments\n",
    "\n",
    "def pow_list(list_input,n):\n",
    "    lst_new=[] #defining a blank list\n",
    "    for entries in list_input:\n",
    "        ent1=entries**n   # fill the space here that assigns nth power to the number, remember 3**2 would return 9 \n",
    "        lst_new.append(ent1) # this will append ent1 on the list lst_new\n",
    "    return lst_new\n"
   ]
  },
  {
   "cell_type": "code",
   "execution_count": 2,
   "id": "763b927f",
   "metadata": {},
   "outputs": [
    {
     "name": "stdout",
     "output_type": "stream",
     "text": [
      "[1, 4, 9, 100]\n",
      "[1, 8, 27, 1000]\n"
     ]
    }
   ],
   "source": [
    "list1=[1,2,3,10]\n",
    "print(pow_list(list1,2))\n",
    "print(pow_list(list1,3))"
   ]
  },
  {
   "cell_type": "markdown",
   "id": "d4e24cf4",
   "metadata": {},
   "source": [
    "#### Problem 2\n",
    "\n",
    "Lets write a simple function named as sine that takes a list of angles and returns sine value of that angle"
   ]
  },
  {
   "cell_type": "code",
   "execution_count": 3,
   "id": "566d46cf",
   "metadata": {},
   "outputs": [],
   "source": [
    "def sine(angle):\n",
    "    import math # we should import a a library called math where we can do the operations\n",
    "    pi=math.pi  # This is the value of pi \n",
    "    theta=angle/180*pi # we need to convert angle we input in degree to radians. Remember pi radians = 180\n",
    "    sine_value=math.sin(theta) #This will return sine value to theta which is the angle we input in radians unit\n",
    "    return sine_value\n"
   ]
  },
  {
   "cell_type": "code",
   "execution_count": 4,
   "id": "1cb8948d",
   "metadata": {},
   "outputs": [
    {
     "data": {
      "text/plain": [
       "0.49999999999999994"
      ]
     },
     "execution_count": 4,
     "metadata": {},
     "output_type": "execute_result"
    }
   ],
   "source": [
    "sine(30)"
   ]
  },
  {
   "cell_type": "markdown",
   "id": "374e57fa",
   "metadata": {},
   "source": [
    "#### Problem 3\n",
    "\n",
    "Can you combine Problem 1 and Problem 2 above to write a function called sine_list which will take a list of angles\n",
    "and returns a list with sine values of those angles.\n"
   ]
  },
  {
   "cell_type": "code",
   "execution_count": 12,
   "id": "38de54d3",
   "metadata": {},
   "outputs": [],
   "source": [
    "def sine_list(list_input):\n",
    "    list_new=[] # ?  hint assign an empty list\n",
    "    for entries in list_input:\n",
    "        ent1=sine(entries)  # fill the space here that assigns nth power to the number, remember 3**2 would return 9 \n",
    "        list_new.append(ent1) # this will append ent1 on the list lst_new\n",
    "    return list_new\n",
    "    # ? hint: loop over the elements of the input_list\n",
    "    # ? hint: use the function defined above 'sine(angle) ' to assigne sine of it eg. a=sine(entry) \n",
    "    # ? hint: append this to the new list\n",
    "    # ? hint: return the list\n",
    "    pass"
   ]
  },
  {
   "cell_type": "code",
   "execution_count": null,
   "id": "0dd91379",
   "metadata": {},
   "outputs": [],
   "source": [
    "list2 = [0,30,45,60,90]"
   ]
  },
  {
   "cell_type": "markdown",
   "id": "50e2b379",
   "metadata": {},
   "source": [
    "#### Problem 4\n",
    "Lets utilize the functions we have defined above to plot few plots\n",
    "In the following cell we have two lists a and b . Could we make a plot of it?"
   ]
  },
  {
   "cell_type": "code",
   "execution_count": null,
   "id": "2f8a4069",
   "metadata": {},
   "outputs": [],
   "source": [
    "a=[1,2,3]\n",
    "b=[2,4,6]\n",
    "# ? hint: first we need to import the matplotlib.pyplot library to plot. Call the library as \"plt\"  \n",
    "#plt.plot(?) a simple plot on default settings can be done using plt.plot(list1,list2)\n",
    "plt.show() # This will allow to show the plot we have generated\n",
    "plt.close() # This will close the plot we have created : why is this important?"
   ]
  },
  {
   "cell_type": "markdown",
   "id": "75a91756",
   "metadata": {},
   "source": [
    "#### Problem 5\n",
    "\n",
    "Write a code that will take the list and plots the square, cube and sine values of the entries of that list. \n",
    "The plot of list of squares has legend 'n=2' with solid lines in red color while the list of cubes has lenged 'n=3' \n",
    "with dotted line in black color. The list of sine values use dashed line in green color and has legend 'sine'.\n",
    "Use the input_list as provided below. Make sure you utilize the concepts from Problems 1-4."
   ]
  },
  {
   "cell_type": "code",
   "execution_count": null,
   "id": "a22fda27",
   "metadata": {},
   "outputs": [],
   "source": [
    "a=[1.0,1.4,1.8,2.2,2.6,3.0]"
   ]
  },
  {
   "cell_type": "code",
   "execution_count": null,
   "id": "459f6a1c",
   "metadata": {},
   "outputs": [],
   "source": [
    "# square_a = ? hint could you square the list above using problem 1\n",
    "# cube_a = ?hint could you cube the list above using problem 1\n",
    "# ? sine_a=? hint could you get a list of sine values using problem 2\n",
    "# ? import the matplotlib.pyplot library \n",
    "# ? plot list 'a' with square of it. eg. plt.plot(a,square_a,color='red',linestyle='-',label='n=2')\n",
    "# ? \n",
    "# ?\n",
    "#plt.legened() # required to display legend\n",
    "#plt.show()\n",
    "#plt.close()\n",
    "# You could add title of plot, label on x axis, y-axis, put limit to values displayed on x- and Y-axis and \n",
    "# so much as well. Visit Day 2 materials again for more details"
   ]
  },
  {
   "cell_type": "code",
   "execution_count": null,
   "id": "3550ac14",
   "metadata": {},
   "outputs": [],
   "source": []
  }
 ],
 "metadata": {
  "kernelspec": {
   "display_name": "Python 3",
   "language": "python",
   "name": "python3"
  },
  "language_info": {
   "codemirror_mode": {
    "name": "ipython",
    "version": 3
   },
   "file_extension": ".py",
   "mimetype": "text/x-python",
   "name": "python",
   "nbconvert_exporter": "python",
   "pygments_lexer": "ipython3",
   "version": "3.8.8"
  }
 },
 "nbformat": 4,
 "nbformat_minor": 5
}
