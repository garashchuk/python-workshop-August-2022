{
 "cells": [
  {
   "cell_type": "markdown",
   "id": "98875e44",
   "metadata": {},
   "source": [
    "## [Pandas](https://pandas.pydata.org) -- a Python package for tabular data"
   ]
  },
  {
   "cell_type": "code",
   "execution_count": 1,
   "id": "df21a220",
   "metadata": {},
   "outputs": [
    {
     "name": "stdout",
     "output_type": "stream",
     "text": [
      "Name: pandas\n",
      "Version: 1.2.4\n",
      "Summary: Powerful data structures for data analysis, time series, and statistics\n",
      "Home-page: https://pandas.pydata.org\n",
      "Author: None\n",
      "Author-email: None\n",
      "License: BSD\n",
      "Location: c:\\users\\garashch\\anaconda3\\lib\\site-packages\n",
      "Requires: pytz, python-dateutil, numpy\n",
      "Required-by: statsmodels, seaborn\n"
     ]
    }
   ],
   "source": [
    "!pip show pandas"
   ]
  },
  {
   "cell_type": "code",
   "execution_count": 2,
   "id": "befd1288",
   "metadata": {},
   "outputs": [],
   "source": [
    "import pandas as pd"
   ]
  },
  {
   "cell_type": "code",
   "execution_count": 3,
   "id": "1b8932fd",
   "metadata": {},
   "outputs": [
    {
     "name": "stdout",
     "output_type": "stream",
     "text": [
      "['BooleanDtype', 'Categorical', 'CategoricalDtype', 'CategoricalIndex', 'DataFrame', 'DateOffset', 'DatetimeIndex', 'DatetimeTZDtype', 'ExcelFile', 'ExcelWriter', 'Flags', 'Float32Dtype', 'Float64Dtype', 'Float64Index', 'Grouper', 'HDFStore', 'Index', 'IndexSlice', 'Int16Dtype', 'Int32Dtype', 'Int64Dtype', 'Int64Index', 'Int8Dtype', 'Interval', 'IntervalDtype', 'IntervalIndex', 'MultiIndex', 'NA', 'NaT', 'NamedAgg', 'Period', 'PeriodDtype', 'PeriodIndex', 'RangeIndex', 'Series', 'SparseDtype', 'StringDtype', 'Timedelta', 'TimedeltaIndex', 'Timestamp', 'UInt16Dtype', 'UInt32Dtype', 'UInt64Dtype', 'UInt64Index', 'UInt8Dtype', '__builtins__', '__cached__', '__doc__', '__docformat__', '__file__', '__getattr__', '__git_version__', '__loader__', '__name__', '__package__', '__path__', '__spec__', '__version__', '_config', '_hashtable', '_is_numpy_dev', '_lib', '_libs', '_np_version_under1p17', '_np_version_under1p18', '_testing', '_tslib', '_typing', '_version', 'api', 'array', 'arrays', 'bdate_range', 'compat', 'concat', 'core', 'crosstab', 'cut', 'date_range', 'describe_option', 'errors', 'eval', 'factorize', 'get_dummies', 'get_option', 'infer_freq', 'interval_range', 'io', 'isna', 'isnull', 'json_normalize', 'lreshape', 'melt', 'merge', 'merge_asof', 'merge_ordered', 'notna', 'notnull', 'offsets', 'option_context', 'options', 'pandas', 'period_range', 'pivot', 'pivot_table', 'plotting', 'qcut', 'read_clipboard', 'read_csv', 'read_excel', 'read_feather', 'read_fwf', 'read_gbq', 'read_hdf', 'read_html', 'read_json', 'read_orc', 'read_parquet', 'read_pickle', 'read_sas', 'read_spss', 'read_sql', 'read_sql_query', 'read_sql_table', 'read_stata', 'read_table', 'reset_option', 'set_eng_float_format', 'set_option', 'show_versions', 'test', 'testing', 'timedelta_range', 'to_datetime', 'to_numeric', 'to_pickle', 'to_timedelta', 'tseries', 'unique', 'util', 'value_counts', 'wide_to_long']\n"
     ]
    }
   ],
   "source": [
    "print(dir(pd))"
   ]
  },
  {
   "cell_type": "code",
   "execution_count": 4,
   "id": "a9d7a9cd",
   "metadata": {},
   "outputs": [
    {
     "name": "stdout",
     "output_type": "stream",
     "text": [
      "['read_clipboard', 'read_csv', 'read_excel', 'read_feather', 'read_fwf', 'read_gbq', 'read_hdf', 'read_html', 'read_json', 'read_orc', 'read_parquet', 'read_pickle', 'read_sas', 'read_spss', 'read_sql', 'read_sql_query', 'read_sql_table', 'read_stata', 'read_table']\n"
     ]
    }
   ],
   "source": [
    "print([s for s in dir(pd) if s.startswith('read')])"
   ]
  },
  {
   "cell_type": "markdown",
   "id": "c98a21e0",
   "metadata": {},
   "source": [
    "## 1. Pandas data structure\n",
    "### 1.1 Series and Dataframe\n",
    "Series is like an array or list, but in a tabulated form (i.e. a single column)"
   ]
  },
  {
   "cell_type": "code",
   "execution_count": 5,
   "id": "965f0284",
   "metadata": {},
   "outputs": [
    {
     "data": {
      "text/plain": [
       "pandas.core.series.Series"
      ]
     },
     "execution_count": 5,
     "metadata": {},
     "output_type": "execute_result"
    }
   ],
   "source": [
    "pd.Series"
   ]
  },
  {
   "cell_type": "code",
   "execution_count": 6,
   "id": "92f96750",
   "metadata": {},
   "outputs": [
    {
     "data": {
      "text/plain": [
       "pandas.core.frame.DataFrame"
      ]
     },
     "execution_count": 6,
     "metadata": {},
     "output_type": "execute_result"
    }
   ],
   "source": [
    "pd.DataFrame"
   ]
  },
  {
   "cell_type": "code",
   "execution_count": 7,
   "id": "f92dad32",
   "metadata": {},
   "outputs": [],
   "source": [
    "# print(dir(pd.DataFrame))"
   ]
  },
  {
   "cell_type": "markdown",
   "id": "cab9a25c",
   "metadata": {},
   "source": [
    "### 1.2 Creating a DataFrame"
   ]
  },
  {
   "cell_type": "code",
   "execution_count": 8,
   "id": "e834975b",
   "metadata": {},
   "outputs": [
    {
     "data": {
      "text/html": [
       "<div>\n",
       "<style scoped>\n",
       "    .dataframe tbody tr th:only-of-type {\n",
       "        vertical-align: middle;\n",
       "    }\n",
       "\n",
       "    .dataframe tbody tr th {\n",
       "        vertical-align: top;\n",
       "    }\n",
       "\n",
       "    .dataframe thead th {\n",
       "        text-align: right;\n",
       "    }\n",
       "</style>\n",
       "<table border=\"1\" class=\"dataframe\">\n",
       "  <thead>\n",
       "    <tr style=\"text-align: right;\">\n",
       "      <th></th>\n",
       "      <th>Elements</th>\n",
       "      <th>Z</th>\n",
       "      <th>Weight</th>\n",
       "    </tr>\n",
       "  </thead>\n",
       "  <tbody>\n",
       "    <tr>\n",
       "      <th>0</th>\n",
       "      <td>Hydrogen</td>\n",
       "      <td>1</td>\n",
       "      <td>1</td>\n",
       "    </tr>\n",
       "    <tr>\n",
       "      <th>1</th>\n",
       "      <td>Oxygen</td>\n",
       "      <td>8</td>\n",
       "      <td>16</td>\n",
       "    </tr>\n",
       "    <tr>\n",
       "      <th>2</th>\n",
       "      <td>Sulfur</td>\n",
       "      <td>16</td>\n",
       "      <td>32</td>\n",
       "    </tr>\n",
       "    <tr>\n",
       "      <th>3</th>\n",
       "      <td>Tungsten</td>\n",
       "      <td>74</td>\n",
       "      <td>184</td>\n",
       "    </tr>\n",
       "    <tr>\n",
       "      <th>4</th>\n",
       "      <td>Europium</td>\n",
       "      <td>63</td>\n",
       "      <td>152</td>\n",
       "    </tr>\n",
       "  </tbody>\n",
       "</table>\n",
       "</div>"
      ],
      "text/plain": [
       "   Elements   Z  Weight\n",
       "0  Hydrogen   1       1\n",
       "1    Oxygen   8      16\n",
       "2    Sulfur  16      32\n",
       "3  Tungsten  74     184\n",
       "4  Europium  63     152"
      ]
     },
     "execution_count": 8,
     "metadata": {},
     "output_type": "execute_result"
    }
   ],
   "source": [
    "d = {'Elements':['Hydrogen', 'Oxygen', 'Sulfur', 'Tungsten', 'Europium'],\\\n",
    "     'Z':[1,8,16,74,63],\\\n",
    "     'Weight':[1,16,32,184,152]}\n",
    "df_elems = pd.DataFrame.from_dict(d)\n",
    "df_elems"
   ]
  },
  {
   "cell_type": "code",
   "execution_count": 9,
   "id": "e145e66b",
   "metadata": {},
   "outputs": [
    {
     "data": {
      "text/html": [
       "<div>\n",
       "<style scoped>\n",
       "    .dataframe tbody tr th:only-of-type {\n",
       "        vertical-align: middle;\n",
       "    }\n",
       "\n",
       "    .dataframe tbody tr th {\n",
       "        vertical-align: top;\n",
       "    }\n",
       "\n",
       "    .dataframe thead th {\n",
       "        text-align: right;\n",
       "    }\n",
       "</style>\n",
       "<table border=\"1\" class=\"dataframe\">\n",
       "  <thead>\n",
       "    <tr style=\"text-align: right;\">\n",
       "      <th></th>\n",
       "      <th>Elements</th>\n",
       "      <th>Z</th>\n",
       "      <th>Weight</th>\n",
       "    </tr>\n",
       "  </thead>\n",
       "  <tbody>\n",
       "    <tr>\n",
       "      <th>0</th>\n",
       "      <td>Hydrogen</td>\n",
       "      <td>1</td>\n",
       "      <td>1</td>\n",
       "    </tr>\n",
       "    <tr>\n",
       "      <th>1</th>\n",
       "      <td>Oxygen</td>\n",
       "      <td>8</td>\n",
       "      <td>16</td>\n",
       "    </tr>\n",
       "    <tr>\n",
       "      <th>2</th>\n",
       "      <td>Sulfur</td>\n",
       "      <td>16</td>\n",
       "      <td>32</td>\n",
       "    </tr>\n",
       "  </tbody>\n",
       "</table>\n",
       "</div>"
      ],
      "text/plain": [
       "   Elements   Z  Weight\n",
       "0  Hydrogen   1       1\n",
       "1    Oxygen   8      16\n",
       "2    Sulfur  16      32"
      ]
     },
     "execution_count": 9,
     "metadata": {},
     "output_type": "execute_result"
    }
   ],
   "source": [
    "df_elems[df_elems['Weight'] < 50]"
   ]
  },
  {
   "cell_type": "markdown",
   "id": "fe8348fe",
   "metadata": {
    "collapsed": true
   },
   "source": [
    "## 2. Data operations\n",
    "### 2.1 [indexing](https://pandas.pydata.org/pandas-docs/stable/user_guide/indexing.html)\n",
    "Use a more complete table of elements provided in the Lecture 1."
   ]
  },
  {
   "cell_type": "code",
   "execution_count": 10,
   "id": "0bb73d05",
   "metadata": {},
   "outputs": [],
   "source": [
    "df = pd.read_table('.\\\\tableofelements.txt', sep='\\t', index_col=1).reset_index().drop('index', 1)"
   ]
  },
  {
   "cell_type": "code",
   "execution_count": 11,
   "id": "2f3a8770",
   "metadata": {},
   "outputs": [
    {
     "data": {
      "text/html": [
       "<div>\n",
       "<style scoped>\n",
       "    .dataframe tbody tr th:only-of-type {\n",
       "        vertical-align: middle;\n",
       "    }\n",
       "\n",
       "    .dataframe tbody tr th {\n",
       "        vertical-align: top;\n",
       "    }\n",
       "\n",
       "    .dataframe thead th {\n",
       "        text-align: right;\n",
       "    }\n",
       "</style>\n",
       "<table border=\"1\" class=\"dataframe\">\n",
       "  <thead>\n",
       "    <tr style=\"text-align: right;\">\n",
       "      <th></th>\n",
       "      <th>No.</th>\n",
       "      <th>Atomic Weight</th>\n",
       "      <th>Name</th>\n",
       "      <th>Sym.</th>\n",
       "      <th>M.P.(°C)</th>\n",
       "      <th>B.P.(°C)</th>\n",
       "      <th>Density(g/cm3)</th>\n",
       "      <th>Earth crust (%)</th>\n",
       "      <th>Discovery(Year)</th>\n",
       "      <th>Group</th>\n",
       "      <th>Electron configuration</th>\n",
       "      <th>Ionization energy (eV)</th>\n",
       "    </tr>\n",
       "  </thead>\n",
       "  <tbody>\n",
       "    <tr>\n",
       "      <th>0</th>\n",
       "      <td>1</td>\n",
       "      <td>1.0079</td>\n",
       "      <td>Hydrogen</td>\n",
       "      <td>H</td>\n",
       "      <td>-259.0</td>\n",
       "      <td>-253.0</td>\n",
       "      <td>0.09</td>\n",
       "      <td>0.14</td>\n",
       "      <td>1776</td>\n",
       "      <td>1</td>\n",
       "      <td>1s1</td>\n",
       "      <td>13.5984</td>\n",
       "    </tr>\n",
       "    <tr>\n",
       "      <th>1</th>\n",
       "      <td>2</td>\n",
       "      <td>4.0026</td>\n",
       "      <td>Helium</td>\n",
       "      <td>He</td>\n",
       "      <td>-272.0</td>\n",
       "      <td>-269.0</td>\n",
       "      <td>0.18</td>\n",
       "      <td>NaN</td>\n",
       "      <td>1895</td>\n",
       "      <td>18</td>\n",
       "      <td>1s2</td>\n",
       "      <td>24.5874</td>\n",
       "    </tr>\n",
       "    <tr>\n",
       "      <th>2</th>\n",
       "      <td>3</td>\n",
       "      <td>6.9410</td>\n",
       "      <td>Lithium</td>\n",
       "      <td>Li</td>\n",
       "      <td>180.0</td>\n",
       "      <td>1,347.00</td>\n",
       "      <td>0.53</td>\n",
       "      <td>NaN</td>\n",
       "      <td>1817</td>\n",
       "      <td>1</td>\n",
       "      <td>[He] 2s1</td>\n",
       "      <td>5.3917</td>\n",
       "    </tr>\n",
       "  </tbody>\n",
       "</table>\n",
       "</div>"
      ],
      "text/plain": [
       "   No.  Atomic Weight      Name Sym. M.P.(°C)  B.P.(°C)  Density(g/cm3)  \\\n",
       "0    1         1.0079  Hydrogen    H   -259.0    -253.0            0.09   \n",
       "1    2         4.0026    Helium   He   -272.0    -269.0            0.18   \n",
       "2    3         6.9410   Lithium   Li    180.0  1,347.00            0.53   \n",
       "\n",
       "   Earth crust (%) Discovery(Year)  Group Electron configuration  \\\n",
       "0             0.14            1776      1                    1s1   \n",
       "1              NaN            1895     18                    1s2   \n",
       "2              NaN            1817      1               [He] 2s1   \n",
       "\n",
       "   Ionization energy (eV)  \n",
       "0                 13.5984  \n",
       "1                 24.5874  \n",
       "2                  5.3917  "
      ]
     },
     "execution_count": 11,
     "metadata": {},
     "output_type": "execute_result"
    }
   ],
   "source": [
    "df.head(3)"
   ]
  },
  {
   "cell_type": "code",
   "execution_count": 12,
   "id": "600d7638",
   "metadata": {},
   "outputs": [
    {
     "data": {
      "text/plain": [
       "array(['No.', 'Atomic Weight', 'Name', 'Sym.', 'M.P.(°C)', ' B.P.(°C)',\n",
       "       'Density(g/cm3)', 'Earth crust (%)', 'Discovery(Year)', 'Group',\n",
       "       'Electron configuration', 'Ionization energy (eV)'], dtype=object)"
      ]
     },
     "execution_count": 12,
     "metadata": {},
     "output_type": "execute_result"
    }
   ],
   "source": [
    "df.columns.values"
   ]
  },
  {
   "cell_type": "code",
   "execution_count": 13,
   "id": "27c59e0e",
   "metadata": {},
   "outputs": [
    {
     "data": {
      "text/plain": [
       "array(['1776', '1895', '1817', '1797', '1808', 'ancient', '1772', '1774',\n",
       "       '1886', '1898', '1807', '1755', '1825', '1824', '1669', 'ancient',\n",
       "       '1774', '1894', '1807', '1808', '1879', '1791', '1830', '1797',\n",
       "       '1774', 'ancient', '1735', '1751', 'ancient', 'ancient', '1875',\n",
       "       '1886', 'ancient', '1817', '1826', '1898', '1861', '1790', '1794',\n",
       "       '1789', '1801', '1781', '1937', '1844', '1803', '1803', 'ancient',\n",
       "       '1817', '1863', 'ancient', 'ancient', '1783', '1811', '1898',\n",
       "       '1860', '1808', '1839', '1803', '1885', '1885', '1945', '1879',\n",
       "       '1901', '1880', '1843', '1886', '1867', '1842', '1879', '1878',\n",
       "       '1907', '1923', '1802', '1783', '1925', '1803', '1803', '1735',\n",
       "       'ancient', 'ancient', '1861', 'ancient', 'ancient', '1898', '1940',\n",
       "       '1900', '1939', '1898', '1899', '1829', '1913', '1789', '1940',\n",
       "       '1940', '1944', '1944', '1949', '1950', '1952', '1952', '1955',\n",
       "       '1958', '1961', '1964', '1967', '1974', '1981', '1984', '1982'],\n",
       "      dtype=object)"
      ]
     },
     "execution_count": 13,
     "metadata": {},
     "output_type": "execute_result"
    }
   ],
   "source": [
    "df['Discovery(Year)'].values"
   ]
  },
  {
   "cell_type": "code",
   "execution_count": 14,
   "id": "05f92dee",
   "metadata": {},
   "outputs": [
    {
     "data": {
      "text/plain": [
       "'Uranium'"
      ]
     },
     "execution_count": 14,
     "metadata": {},
     "output_type": "execute_result"
    }
   ],
   "source": [
    "df.loc[91, 'Name']"
   ]
  },
  {
   "cell_type": "code",
   "execution_count": 15,
   "id": "2d83801b",
   "metadata": {},
   "outputs": [
    {
     "data": {
      "text/plain": [
       "No.                                     92\n",
       "Atomic Weight                     238.0289\n",
       "Name                               Uranium\n",
       "Sym.                                     U\n",
       "M.P.(°C)                          1,132.00\n",
       " B.P.(°C)                         3,818.00\n",
       "Density(g/cm3)                       18.95\n",
       "Earth crust (%)                        NaN\n",
       "Discovery(Year)                       1789\n",
       "Group                                  102\n",
       "Electron configuration    [Rn] 5f3 6d1 7s2\n",
       "Ionization energy (eV)              6.1941\n",
       "Name: 91, dtype: object"
      ]
     },
     "execution_count": 15,
     "metadata": {},
     "output_type": "execute_result"
    }
   ],
   "source": [
    "df.loc[91, :]"
   ]
  },
  {
   "cell_type": "code",
   "execution_count": 16,
   "id": "ce9a527f",
   "metadata": {
    "scrolled": true
   },
   "outputs": [
    {
     "data": {
      "text/plain": [
       "'Uranium'"
      ]
     },
     "execution_count": 16,
     "metadata": {},
     "output_type": "execute_result"
    }
   ],
   "source": [
    "df.iloc[91,2]"
   ]
  },
  {
   "cell_type": "markdown",
   "id": "33e06506",
   "metadata": {},
   "source": [
    "### 2.2 tabular operation"
   ]
  },
  {
   "cell_type": "code",
   "execution_count": 17,
   "id": "c678f018",
   "metadata": {},
   "outputs": [],
   "source": [
    "dfrepl = df.replace('ancient', '1', inplace=False)"
   ]
  },
  {
   "cell_type": "code",
   "execution_count": 18,
   "id": "86d01e10",
   "metadata": {},
   "outputs": [
    {
     "data": {
      "text/html": [
       "<div>\n",
       "<style scoped>\n",
       "    .dataframe tbody tr th:only-of-type {\n",
       "        vertical-align: middle;\n",
       "    }\n",
       "\n",
       "    .dataframe tbody tr th {\n",
       "        vertical-align: top;\n",
       "    }\n",
       "\n",
       "    .dataframe thead th {\n",
       "        text-align: right;\n",
       "    }\n",
       "</style>\n",
       "<table border=\"1\" class=\"dataframe\">\n",
       "  <thead>\n",
       "    <tr style=\"text-align: right;\">\n",
       "      <th></th>\n",
       "      <th>No.</th>\n",
       "      <th>Discovery(Year)</th>\n",
       "    </tr>\n",
       "  </thead>\n",
       "  <tbody>\n",
       "    <tr>\n",
       "      <th>0</th>\n",
       "      <td>1</td>\n",
       "      <td>1776</td>\n",
       "    </tr>\n",
       "    <tr>\n",
       "      <th>1</th>\n",
       "      <td>2</td>\n",
       "      <td>1895</td>\n",
       "    </tr>\n",
       "    <tr>\n",
       "      <th>2</th>\n",
       "      <td>3</td>\n",
       "      <td>1817</td>\n",
       "    </tr>\n",
       "  </tbody>\n",
       "</table>\n",
       "</div>"
      ],
      "text/plain": [
       "   No.  Discovery(Year)\n",
       "0    1             1776\n",
       "1    2             1895\n",
       "2    3             1817"
      ]
     },
     "execution_count": 18,
     "metadata": {},
     "output_type": "execute_result"
    }
   ],
   "source": [
    "dfyr = dfrepl[['No.','Discovery(Year)']].apply(pd.to_numeric)\n",
    "dfyr.head(3)"
   ]
  },
  {
   "cell_type": "code",
   "execution_count": 19,
   "id": "d1ff7bd4",
   "metadata": {},
   "outputs": [
    {
     "data": {
      "text/plain": [
       "<AxesSubplot:xlabel='Discovery(Year)', ylabel='No.'>"
      ]
     },
     "execution_count": 19,
     "metadata": {},
     "output_type": "execute_result"
    },
    {
     "data": {
      "image/png": "[encoded data removed]",
      "text/plain": [
       "<Figure size 432x288 with 1 Axes>"
      ]
     },
     "metadata": {
      "needs_background": "light"
     },
     "output_type": "display_data"
    }
   ],
   "source": [
    "dfyr.plot.scatter(x='Discovery(Year)', y='No.')"
   ]
  },
  {
   "cell_type": "code",
   "execution_count": 20,
   "id": "e68d2c3b",
   "metadata": {},
   "outputs": [
    {
     "data": {
      "text/plain": [
       "(1600.0, 2010.0)"
      ]
     },
     "execution_count": 20,
     "metadata": {},
     "output_type": "execute_result"
    },
    {
     "data": {
      "image/png": "[encoded data removed]",
      "text/plain": [
       "<Figure size 432x288 with 1 Axes>"
      ]
     },
     "metadata": {
      "needs_background": "light"
     },
     "output_type": "display_data"
    }
   ],
   "source": [
    "ax = dfyr.plot.scatter(x='Discovery(Year)', y='No.')\n",
    "ax.set_xlim([1600, 2010])"
   ]
  },
  {
   "cell_type": "markdown",
   "id": "3cd0f08e",
   "metadata": {},
   "source": [
    "### 2.3 method chaining"
   ]
  },
  {
   "cell_type": "code",
   "execution_count": 21,
   "id": "b24a0707",
   "metadata": {},
   "outputs": [
    {
     "data": {
      "text/plain": [
       "(1600.0, 2010.0)"
      ]
     },
     "execution_count": 21,
     "metadata": {},
     "output_type": "execute_result"
    },
    {
     "data": {
      "image/png": "[encoded data removed]",
      "text/plain": [
       "<Figure size 432x288 with 1 Axes>"
      ]
     },
     "metadata": {
      "needs_background": "light"
     },
     "output_type": "display_data"
    }
   ],
   "source": [
    "ax2 = df[df['Discovery(Year)'] != 'ancient'][['No.','Discovery(Year)']].apply(pd.to_numeric).\\\n",
    "     plot.scatter(x='Discovery(Year)', y='No.')\n",
    "ax2.set_xlim([1600, 2010])"
   ]
  },
  {
   "cell_type": "code",
   "execution_count": null,
   "id": "4bb04beb",
   "metadata": {},
   "outputs": [],
   "source": []
  },
  {
   "cell_type": "markdown",
   "id": "4af925ec",
   "metadata": {},
   "source": [
    "## 2. Pandas I/O\n",
    "Read a .txt file of the table of elements taken from [here](https://www.science.co.il/elements/)."
   ]
  },
  {
   "cell_type": "code",
   "execution_count": 22,
   "id": "23931c5a",
   "metadata": {},
   "outputs": [],
   "source": [
    "df = pd.read_table('.\\\\tableofelements.txt', sep='\\t', index_col=1).reset_index().drop('index', 1)"
   ]
  },
  {
   "cell_type": "code",
   "execution_count": 23,
   "id": "23e3a8e8",
   "metadata": {},
   "outputs": [
    {
     "data": {
      "text/html": [
       "<div>\n",
       "<style scoped>\n",
       "    .dataframe tbody tr th:only-of-type {\n",
       "        vertical-align: middle;\n",
       "    }\n",
       "\n",
       "    .dataframe tbody tr th {\n",
       "        vertical-align: top;\n",
       "    }\n",
       "\n",
       "    .dataframe thead th {\n",
       "        text-align: right;\n",
       "    }\n",
       "</style>\n",
       "<table border=\"1\" class=\"dataframe\">\n",
       "  <thead>\n",
       "    <tr style=\"text-align: right;\">\n",
       "      <th></th>\n",
       "      <th>No.</th>\n",
       "      <th>Atomic Weight</th>\n",
       "      <th>Name</th>\n",
       "      <th>Sym.</th>\n",
       "      <th>M.P.(°C)</th>\n",
       "      <th>B.P.(°C)</th>\n",
       "      <th>Density(g/cm3)</th>\n",
       "      <th>Earth crust (%)</th>\n",
       "      <th>Discovery(Year)</th>\n",
       "      <th>Group</th>\n",
       "      <th>Electron configuration</th>\n",
       "      <th>Ionization energy (eV)</th>\n",
       "    </tr>\n",
       "  </thead>\n",
       "  <tbody>\n",
       "    <tr>\n",
       "      <th>0</th>\n",
       "      <td>1</td>\n",
       "      <td>1.0079</td>\n",
       "      <td>Hydrogen</td>\n",
       "      <td>H</td>\n",
       "      <td>-259.0</td>\n",
       "      <td>-253.0</td>\n",
       "      <td>0.09</td>\n",
       "      <td>0.14</td>\n",
       "      <td>1776</td>\n",
       "      <td>1</td>\n",
       "      <td>1s1</td>\n",
       "      <td>13.5984</td>\n",
       "    </tr>\n",
       "    <tr>\n",
       "      <th>1</th>\n",
       "      <td>2</td>\n",
       "      <td>4.0026</td>\n",
       "      <td>Helium</td>\n",
       "      <td>He</td>\n",
       "      <td>-272.0</td>\n",
       "      <td>-269.0</td>\n",
       "      <td>0.18</td>\n",
       "      <td>NaN</td>\n",
       "      <td>1895</td>\n",
       "      <td>18</td>\n",
       "      <td>1s2</td>\n",
       "      <td>24.5874</td>\n",
       "    </tr>\n",
       "    <tr>\n",
       "      <th>2</th>\n",
       "      <td>3</td>\n",
       "      <td>6.9410</td>\n",
       "      <td>Lithium</td>\n",
       "      <td>Li</td>\n",
       "      <td>180.0</td>\n",
       "      <td>1,347.00</td>\n",
       "      <td>0.53</td>\n",
       "      <td>NaN</td>\n",
       "      <td>1817</td>\n",
       "      <td>1</td>\n",
       "      <td>[He] 2s1</td>\n",
       "      <td>5.3917</td>\n",
       "    </tr>\n",
       "    <tr>\n",
       "      <th>3</th>\n",
       "      <td>4</td>\n",
       "      <td>9.0122</td>\n",
       "      <td>Beryllium</td>\n",
       "      <td>Be</td>\n",
       "      <td>1,278.00</td>\n",
       "      <td>2,970.00</td>\n",
       "      <td>1.85</td>\n",
       "      <td>NaN</td>\n",
       "      <td>1797</td>\n",
       "      <td>2</td>\n",
       "      <td>[He] 2s2</td>\n",
       "      <td>9.3227</td>\n",
       "    </tr>\n",
       "    <tr>\n",
       "      <th>4</th>\n",
       "      <td>5</td>\n",
       "      <td>10.8110</td>\n",
       "      <td>Boron</td>\n",
       "      <td>B</td>\n",
       "      <td>2,300.00</td>\n",
       "      <td>2,550.00</td>\n",
       "      <td>2.34</td>\n",
       "      <td>NaN</td>\n",
       "      <td>1808</td>\n",
       "      <td>13</td>\n",
       "      <td>[He] 2s2 2p1</td>\n",
       "      <td>8.2980</td>\n",
       "    </tr>\n",
       "  </tbody>\n",
       "</table>\n",
       "</div>"
      ],
      "text/plain": [
       "   No.  Atomic Weight       Name Sym.  M.P.(°C)  B.P.(°C)  Density(g/cm3)  \\\n",
       "0    1         1.0079   Hydrogen    H    -259.0    -253.0            0.09   \n",
       "1    2         4.0026     Helium   He    -272.0    -269.0            0.18   \n",
       "2    3         6.9410    Lithium   Li     180.0  1,347.00            0.53   \n",
       "3    4         9.0122  Beryllium   Be  1,278.00  2,970.00            1.85   \n",
       "4    5        10.8110      Boron    B  2,300.00  2,550.00            2.34   \n",
       "\n",
       "   Earth crust (%) Discovery(Year)  Group Electron configuration  \\\n",
       "0             0.14            1776      1                    1s1   \n",
       "1              NaN            1895     18                    1s2   \n",
       "2              NaN            1817      1               [He] 2s1   \n",
       "3              NaN            1797      2               [He] 2s2   \n",
       "4              NaN            1808     13           [He] 2s2 2p1   \n",
       "\n",
       "   Ionization energy (eV)  \n",
       "0                 13.5984  \n",
       "1                 24.5874  \n",
       "2                  5.3917  \n",
       "3                  9.3227  \n",
       "4                  8.2980  "
      ]
     },
     "execution_count": 23,
     "metadata": {},
     "output_type": "execute_result"
    }
   ],
   "source": [
    "df.head()"
   ]
  },
  {
   "cell_type": "code",
   "execution_count": 24,
   "id": "1916dc09",
   "metadata": {},
   "outputs": [
    {
     "name": "stderr",
     "output_type": "stream",
     "text": [
      "'ls' is not recognized as an internal or external command,\n",
      "operable program or batch file.\n"
     ]
    }
   ],
   "source": [
    "!ls"
   ]
  },
  {
   "cell_type": "code",
   "execution_count": 25,
   "id": "31b2297e",
   "metadata": {},
   "outputs": [],
   "source": [
    "df.to_json('.\\\\tableofelements.json')"
   ]
  },
  {
   "cell_type": "code",
   "execution_count": 26,
   "id": "8e716e4f",
   "metadata": {},
   "outputs": [],
   "source": [
    "df.to_csv('.\\\\tableofelements.csv')"
   ]
  },
  {
   "cell_type": "code",
   "execution_count": 27,
   "id": "9c8aaabc",
   "metadata": {},
   "outputs": [
    {
     "name": "stderr",
     "output_type": "stream",
     "text": [
      "'ls' is not recognized as an internal or external command,\n",
      "operable program or batch file.\n"
     ]
    }
   ],
   "source": [
    "!ls"
   ]
  },
  {
   "cell_type": "code",
   "execution_count": null,
   "id": "9a837d41",
   "metadata": {},
   "outputs": [],
   "source": []
  },
  {
   "cell_type": "code",
   "execution_count": null,
   "id": "68ce675f",
   "metadata": {},
   "outputs": [],
   "source": []
  }
 ],
 "metadata": {
  "kernelspec": {
   "display_name": "Python 3",
   "language": "python",
   "name": "python3"
  },
  "language_info": {
   "codemirror_mode": {
    "name": "ipython",
    "version": 3
   },
   "file_extension": ".py",
   "mimetype": "text/x-python",
   "name": "python",
   "nbconvert_exporter": "python",
   "pygments_lexer": "ipython3",
   "version": "3.8.8"
  }
 },
 "nbformat": 4,
 "nbformat_minor": 5
}
