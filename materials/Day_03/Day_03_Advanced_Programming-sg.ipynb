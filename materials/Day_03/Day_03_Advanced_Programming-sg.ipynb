{
 "cells": [
  {
   "cell_type": "markdown",
   "id": "20740e38",
   "metadata": {},
   "source": [
    "# Python advanced programming\n",
    "Lecturers = R. Patrick Xian, Santosh Adhikari, Sourin Dey<br>\n",
    "Date = 07/2022\n",
    "## 1. Common built-ins (an [incomplete list](https://docs.python.org/3/library/functions.html))\n",
    "### 1.1 ```del```"
   ]
  },
  {
   "cell_type": "code",
   "execution_count": 1,
   "id": "a1b17f93",
   "metadata": {},
   "outputs": [
    {
     "name": "stdout",
     "output_type": "stream",
     "text": [
      "5\n"
     ]
    }
   ],
   "source": [
    "a = 5\n",
    "print(a)"
   ]
  },
  {
   "cell_type": "code",
   "execution_count": 2,
   "id": "2da4fdb6",
   "metadata": {},
   "outputs": [
    {
     "ename": "NameError",
     "evalue": "name 'a' is not defined",
     "output_type": "error",
     "traceback": [
      "\u001b[1;31m---------------------------------------------------------------------------\u001b[0m",
      "\u001b[1;31mNameError\u001b[0m                                 Traceback (most recent call last)",
      "\u001b[1;32m<ipython-input-2-dd191d78a583>\u001b[0m in \u001b[0;36m<module>\u001b[1;34m\u001b[0m\n\u001b[0;32m      1\u001b[0m \u001b[0ma\u001b[0m\u001b[1;33m=\u001b[0m\u001b[1;36m5\u001b[0m\u001b[1;33m\u001b[0m\u001b[1;33m\u001b[0m\u001b[0m\n\u001b[0;32m      2\u001b[0m \u001b[1;32mdel\u001b[0m \u001b[0ma\u001b[0m    \u001b[1;31m# deletes and object\u001b[0m\u001b[1;33m\u001b[0m\u001b[1;33m\u001b[0m\u001b[0m\n\u001b[1;32m----> 3\u001b[1;33m \u001b[0mprint\u001b[0m\u001b[1;33m(\u001b[0m\u001b[0ma\u001b[0m\u001b[1;33m)\u001b[0m\u001b[1;33m\u001b[0m\u001b[1;33m\u001b[0m\u001b[0m\n\u001b[0m",
      "\u001b[1;31mNameError\u001b[0m: name 'a' is not defined"
     ]
    }
   ],
   "source": [
    "a=5\n",
    "del a    # deletes and object\n",
    "print(a)"
   ]
  },
  {
   "cell_type": "code",
   "execution_count": 3,
   "id": "eb40eba4",
   "metadata": {},
   "outputs": [
    {
     "ename": "NameError",
     "evalue": "name 'a' is not defined",
     "output_type": "error",
     "traceback": [
      "\u001b[1;31m---------------------------------------------------------------------------\u001b[0m",
      "\u001b[1;31mNameError\u001b[0m                                 Traceback (most recent call last)",
      "\u001b[1;32m<ipython-input-3-30059202e781>\u001b[0m in \u001b[0;36m<module>\u001b[1;34m\u001b[0m\n\u001b[0;32m      1\u001b[0m \u001b[0ma\u001b[0m \u001b[1;33m=\u001b[0m \u001b[1;36m5\u001b[0m\u001b[1;33m\u001b[0m\u001b[1;33m\u001b[0m\u001b[0m\n\u001b[0;32m      2\u001b[0m \u001b[1;32mdel\u001b[0m\u001b[1;33m(\u001b[0m\u001b[0ma\u001b[0m\u001b[1;33m)\u001b[0m\u001b[1;33m\u001b[0m\u001b[1;33m\u001b[0m\u001b[0m\n\u001b[1;32m----> 3\u001b[1;33m \u001b[0ma\u001b[0m\u001b[1;33m\u001b[0m\u001b[1;33m\u001b[0m\u001b[0m\n\u001b[0m",
      "\u001b[1;31mNameError\u001b[0m: name 'a' is not defined"
     ]
    }
   ],
   "source": [
    "a = 5\n",
    "del(a)\n",
    "a"
   ]
  },
  {
   "cell_type": "markdown",
   "id": "22a7166c",
   "metadata": {},
   "source": [
    "### 1.2 ```enumerate```\n",
    "A cousin of ```for```, but with indices"
   ]
  },
  {
   "cell_type": "code",
   "execution_count": 5,
   "id": "533ffacb",
   "metadata": {},
   "outputs": [
    {
     "data": {
      "text/plain": [
       "[(0, 'spring'), (1, 'summer'), (2, 'fall'), (3, 'winter')]"
      ]
     },
     "execution_count": 5,
     "metadata": {},
     "output_type": "execute_result"
    }
   ],
   "source": [
    "seasons=['spring','summer','fall','winter']\n",
    "list(enumerate(seasons))\n",
    "    "
   ]
  },
  {
   "cell_type": "markdown",
   "id": "e03ddfd9",
   "metadata": {},
   "source": [
    "### 1.3 ```not```, ```any``` and ```all```"
   ]
  },
  {
   "cell_type": "code",
   "execution_count": 6,
   "id": "6be4560a",
   "metadata": {},
   "outputs": [
    {
     "data": {
      "text/plain": [
       "(False, True)"
      ]
     },
     "execution_count": 6,
     "metadata": {},
     "output_type": "execute_result"
    }
   ],
   "source": [
    "not(True), not(False)"
   ]
  },
  {
   "cell_type": "code",
   "execution_count": 7,
   "id": "0320d3e3",
   "metadata": {},
   "outputs": [],
   "source": [
    "lis = [0, 1, 2, 3, 4, 5]"
   ]
  },
  {
   "cell_type": "code",
   "execution_count": 8,
   "id": "b50a7047",
   "metadata": {},
   "outputs": [
    {
     "data": {
      "text/plain": [
       "True"
      ]
     },
     "execution_count": 8,
     "metadata": {},
     "output_type": "execute_result"
    }
   ],
   "source": [
    "any(lis)"
   ]
  },
  {
   "cell_type": "code",
   "execution_count": 9,
   "id": "eef6f1e7",
   "metadata": {},
   "outputs": [
    {
     "data": {
      "text/plain": [
       "False"
      ]
     },
     "execution_count": 9,
     "metadata": {},
     "output_type": "execute_result"
    }
   ],
   "source": [
    "all(lis)"
   ]
  },
  {
   "cell_type": "code",
   "execution_count": 10,
   "id": "22dfba60",
   "metadata": {},
   "outputs": [
    {
     "data": {
      "text/plain": [
       "[1, 1, 1, 1, 1]"
      ]
     },
     "execution_count": 10,
     "metadata": {},
     "output_type": "execute_result"
    }
   ],
   "source": [
    "zero_lis = [1]*5\n",
    "zero_lis"
   ]
  },
  {
   "cell_type": "code",
   "execution_count": 11,
   "id": "08b2c3a8",
   "metadata": {},
   "outputs": [
    {
     "data": {
      "text/plain": [
       "True"
      ]
     },
     "execution_count": 11,
     "metadata": {},
     "output_type": "execute_result"
    }
   ],
   "source": [
    "any(zero_lis)"
   ]
  },
  {
   "cell_type": "code",
   "execution_count": 12,
   "id": "6b0d9757",
   "metadata": {},
   "outputs": [
    {
     "data": {
      "text/plain": [
       "True"
      ]
     },
     "execution_count": 12,
     "metadata": {},
     "output_type": "execute_result"
    }
   ],
   "source": [
    "all(zero_lis)"
   ]
  },
  {
   "cell_type": "markdown",
   "id": "8b256d0f",
   "metadata": {},
   "source": [
    "### 1.4 ```map```\n",
    "Apply a function to every member of an iterable object"
   ]
  },
  {
   "cell_type": "code",
   "execution_count": 21,
   "id": "a13b170e",
   "metadata": {},
   "outputs": [],
   "source": [
    "bool_lis = [True, False, False, False, True]"
   ]
  },
  {
   "cell_type": "code",
   "execution_count": 22,
   "id": "9b7dd8d3",
   "metadata": {},
   "outputs": [
    {
     "data": {
      "text/plain": [
       "False"
      ]
     },
     "execution_count": 22,
     "metadata": {},
     "output_type": "execute_result"
    }
   ],
   "source": [
    "not(bool_lis)"
   ]
  },
  {
   "cell_type": "code",
   "execution_count": 23,
   "id": "dc61e74d",
   "metadata": {},
   "outputs": [
    {
     "data": {
      "text/plain": [
       "True"
      ]
     },
     "execution_count": 23,
     "metadata": {},
     "output_type": "execute_result"
    }
   ],
   "source": [
    "not([])"
   ]
  },
  {
   "cell_type": "code",
   "execution_count": 28,
   "id": "fc07fa9c",
   "metadata": {},
   "outputs": [
    {
     "data": {
      "text/plain": [
       "<map at 0x1e0188f5700>"
      ]
     },
     "execution_count": 28,
     "metadata": {},
     "output_type": "execute_result"
    }
   ],
   "source": [
    "map(not(),bool_lis)"
   ]
  },
  {
   "cell_type": "code",
   "execution_count": 29,
   "id": "36ff0b9a",
   "metadata": {},
   "outputs": [],
   "source": [
    "import operator as op"
   ]
  },
  {
   "cell_type": "code",
   "execution_count": 30,
   "id": "f5d83e86",
   "metadata": {},
   "outputs": [
    {
     "data": {
      "text/plain": [
       "[False, True, True, True, False]"
      ]
     },
     "execution_count": 30,
     "metadata": {},
     "output_type": "execute_result"
    }
   ],
   "source": [
    "list(map(op.not_, bool_lis))"
   ]
  },
  {
   "cell_type": "markdown",
   "id": "7a4fd9ec",
   "metadata": {},
   "source": [
    "### 1.5 ```set```"
   ]
  },
  {
   "cell_type": "code",
   "execution_count": 31,
   "id": "b2012880",
   "metadata": {},
   "outputs": [
    {
     "data": {
      "text/plain": [
       "[1, 1, 1, 2, 10.1, 1000.0, 2, 10.1]"
      ]
     },
     "execution_count": 31,
     "metadata": {},
     "output_type": "execute_result"
    }
   ],
   "source": [
    "redundant_lis = [1, 1, 1, 2, 10.1, 1e3, 2, 10.1]\n",
    "redundant_lis"
   ]
  },
  {
   "cell_type": "code",
   "execution_count": 32,
   "id": "c4113db6",
   "metadata": {},
   "outputs": [
    {
     "data": {
      "text/plain": [
       "{1, 2, 10.1, 1000.0}"
      ]
     },
     "execution_count": 32,
     "metadata": {},
     "output_type": "execute_result"
    }
   ],
   "source": [
    "set(redundant_lis)"
   ]
  },
  {
   "cell_type": "code",
   "execution_count": 33,
   "id": "b1a36b3f",
   "metadata": {},
   "outputs": [
    {
     "data": {
      "text/plain": [
       "False"
      ]
     },
     "execution_count": 33,
     "metadata": {},
     "output_type": "execute_result"
    }
   ],
   "source": [
    "list(set(redundant_lis)) == redundant_lis"
   ]
  },
  {
   "cell_type": "markdown",
   "id": "54a2bd74",
   "metadata": {},
   "source": [
    "## 2. Object-oriented programming\n",
    "#### Create an Ellipse class for calculation of the basic properties of an ellipse"
   ]
  },
  {
   "cell_type": "code",
   "execution_count": 34,
   "id": "e61ad716",
   "metadata": {},
   "outputs": [],
   "source": [
    "from scipy.special import binom\n",
    "import numpy as np\n",
    "from numpy import pi, sqrt"
   ]
  },
  {
   "cell_type": "code",
   "execution_count": 35,
   "id": "edeca07a",
   "metadata": {},
   "outputs": [],
   "source": [
    "class Ellipse(object):\n",
    "    \"\"\"A class for ellipses\n",
    "    \"\"\"\n",
    "    \n",
    "    def __init__(self, majoraxis, minoraxis):\n",
    "        try:\n",
    "            inputcheck = sum(list(map(lambda x: isinstance(x, (int, float)), \\\n",
    "                                    [majoraxis, minoraxis])))\n",
    "            assert inputcheck == 2\n",
    "        except AssertionError:\n",
    "            raise ValueError('The axes need to be integer or floating-point numbers.')\n",
    "        \n",
    "        if majoraxis < minoraxis:\n",
    "            raise ValueError('Major axis is shorter than minor axis!')\n",
    "        else:\n",
    "            self.a = majoraxis\n",
    "            self.b = minoraxis\n",
    "    \n",
    "    def __repr__(self):\n",
    "        \"\"\"Official representation of the Ellipse object\n",
    "        \"\"\"\n",
    "        return '<{}.{}: a={}, b={}>'.format(self.__module__,\\\n",
    "                self.__class__.__name__, self.a, self.b)\n",
    "    \n",
    "    def __str__(self):\n",
    "        \"\"\"Informal representation of the Ellipse object\n",
    "        \"\"\"\n",
    "        return(\"               {}:\\n\\\n",
    "               a (major axis) = {}\\n\\\n",
    "               b (minor axis) = {}\\n\\\n",
    "               area = {}\\n\\\n",
    "               circumference = {}\"\\\n",
    "               .format(self.__class__.__name__,\\\n",
    "               self.a, self.b, self.area, self.circumference()))\n",
    "        \n",
    "    @property\n",
    "    def area(self):\n",
    "        return pi*self.a*self.b\n",
    "    \n",
    "    def circumference(self, n=5):\n",
    "        \"\"\"Infinite series summation formula taken from\n",
    "        http://mathworld.wolfram.com/Ellipse.html\n",
    "        \"\"\"\n",
    "        h = ((self.a-self.b)**2)/((self.a+self.b)**2)\n",
    "        hseries = [(binom(0.5,i)**2)*(h**i) for i in range(n)]\n",
    "        cf = pi*(self.a+self.b)*np.sum(hseries)\n",
    "        return cf\n",
    "    \n",
    "    @property\n",
    "    def eccentricity(self):\n",
    "        \"\"\"Calculate the eccentricity of an ellipse\n",
    "        (complete this on your own..)\n",
    "        \"\"\"\n",
    "        pass"
   ]
  },
  {
   "cell_type": "code",
   "execution_count": 36,
   "id": "c1560990",
   "metadata": {},
   "outputs": [
    {
     "data": {
      "text/plain": [
       "(4, 3, 37.69911184307752, 22.1034921607095)"
      ]
     },
     "execution_count": 36,
     "metadata": {},
     "output_type": "execute_result"
    }
   ],
   "source": [
    "el = Ellipse(majoraxis=4, minoraxis=3)\n",
    "el.a, el.b, el.area, el.circumference(15)"
   ]
  },
  {
   "cell_type": "code",
   "execution_count": 37,
   "id": "e9febc85",
   "metadata": {},
   "outputs": [
    {
     "data": {
      "text/plain": [
       "<__main__.Ellipse: a=4, b=3>"
      ]
     },
     "execution_count": 37,
     "metadata": {},
     "output_type": "execute_result"
    }
   ],
   "source": [
    "el"
   ]
  },
  {
   "cell_type": "code",
   "execution_count": 38,
   "id": "ca513565",
   "metadata": {},
   "outputs": [
    {
     "name": "stdout",
     "output_type": "stream",
     "text": [
      "               Ellipse:\n",
      "               a (major axis) = 4\n",
      "               b (minor axis) = 3\n",
      "               area = 37.69911184307752\n",
      "               circumference = 22.103492160650617\n"
     ]
    }
   ],
   "source": [
    "print(el)"
   ]
  },
  {
   "cell_type": "code",
   "execution_count": 39,
   "id": "9bce21e5",
   "metadata": {},
   "outputs": [
    {
     "ename": "ValueError",
     "evalue": "Major axis is shorter than minor axis!",
     "output_type": "error",
     "traceback": [
      "\u001b[1;31m---------------------------------------------------------------------------\u001b[0m",
      "\u001b[1;31mValueError\u001b[0m                                Traceback (most recent call last)",
      "\u001b[1;32m<ipython-input-39-31d88040b5a1>\u001b[0m in \u001b[0;36m<module>\u001b[1;34m\u001b[0m\n\u001b[1;32m----> 1\u001b[1;33m \u001b[0mEllipse\u001b[0m\u001b[1;33m(\u001b[0m\u001b[0mmajoraxis\u001b[0m\u001b[1;33m=\u001b[0m\u001b[1;36m3\u001b[0m\u001b[1;33m,\u001b[0m \u001b[0mminoraxis\u001b[0m\u001b[1;33m=\u001b[0m\u001b[1;36m4\u001b[0m\u001b[1;33m)\u001b[0m\u001b[1;33m\u001b[0m\u001b[1;33m\u001b[0m\u001b[0m\n\u001b[0m",
      "\u001b[1;32m<ipython-input-35-3caa5846bfd6>\u001b[0m in \u001b[0;36m__init__\u001b[1;34m(self, majoraxis, minoraxis)\u001b[0m\n\u001b[0;32m     12\u001b[0m \u001b[1;33m\u001b[0m\u001b[0m\n\u001b[0;32m     13\u001b[0m         \u001b[1;32mif\u001b[0m \u001b[0mmajoraxis\u001b[0m \u001b[1;33m<\u001b[0m \u001b[0mminoraxis\u001b[0m\u001b[1;33m:\u001b[0m\u001b[1;33m\u001b[0m\u001b[1;33m\u001b[0m\u001b[0m\n\u001b[1;32m---> 14\u001b[1;33m             \u001b[1;32mraise\u001b[0m \u001b[0mValueError\u001b[0m\u001b[1;33m(\u001b[0m\u001b[1;34m'Major axis is shorter than minor axis!'\u001b[0m\u001b[1;33m)\u001b[0m\u001b[1;33m\u001b[0m\u001b[1;33m\u001b[0m\u001b[0m\n\u001b[0m\u001b[0;32m     15\u001b[0m         \u001b[1;32melse\u001b[0m\u001b[1;33m:\u001b[0m\u001b[1;33m\u001b[0m\u001b[1;33m\u001b[0m\u001b[0m\n\u001b[0;32m     16\u001b[0m             \u001b[0mself\u001b[0m\u001b[1;33m.\u001b[0m\u001b[0ma\u001b[0m \u001b[1;33m=\u001b[0m \u001b[0mmajoraxis\u001b[0m\u001b[1;33m\u001b[0m\u001b[1;33m\u001b[0m\u001b[0m\n",
      "\u001b[1;31mValueError\u001b[0m: Major axis is shorter than minor axis!"
     ]
    }
   ],
   "source": [
    "Ellipse(majoraxis=3, minoraxis=4)"
   ]
  },
  {
   "cell_type": "code",
   "execution_count": 40,
   "id": "ec7390b4",
   "metadata": {},
   "outputs": [
    {
     "name": "stdout",
     "output_type": "stream",
     "text": [
      "['__class__', '__delattr__', '__dict__', '__dir__', '__doc__', '__eq__', '__format__', '__ge__', '__getattribute__', '__gt__', '__hash__', '__init__', '__init_subclass__', '__le__', '__lt__', '__module__', '__ne__', '__new__', '__reduce__', '__reduce_ex__', '__repr__', '__setattr__', '__sizeof__', '__str__', '__subclasshook__', '__weakref__', 'area', 'circumference', 'eccentricity']\n"
     ]
    }
   ],
   "source": [
    "print(dir(Ellipse))"
   ]
  },
  {
   "cell_type": "markdown",
   "id": "ed0867df",
   "metadata": {},
   "source": [
    "#### Create a \"Circle algebra\" by subclassing Ellipse"
   ]
  },
  {
   "cell_type": "code",
   "execution_count": 41,
   "id": "565411e9",
   "metadata": {},
   "outputs": [],
   "source": [
    "class Circle(Ellipse):\n",
    "    \n",
    "    def __init__(self, radius):\n",
    "        super(Circle, self).__init__(majoraxis=radius, minoraxis=radius)\n",
    "        self.r = radius\n",
    "    \n",
    "    def __add__(self, other):\n",
    "        \"\"\"Addition of two Circle instances generate a larger\n",
    "        Circle instance with combined area\n",
    "        \"\"\"\n",
    "        return Circle(radius=sqrt(self.r**2 + other.r**2))\n",
    "    \n",
    "    def __sub__(self, other):\n",
    "        \"\"\"Subtraction between two Circle instances generate a\n",
    "        Circle instance with differential area\n",
    "        \"\"\"\n",
    "        if self.r > other.r:\n",
    "            return Circle(radius=sqrt(self.r**2 - other.r**2))\n",
    "        else:\n",
    "            raise ValueError('Cannot subtract a large Circle from a small Circle.')\n",
    "    \n",
    "    def __repr__(self):\n",
    "        return '<{}.{}: r={}>'.format(self.__module__,\\\n",
    "                self.__class__.__name__, self.r)\n",
    "    \n",
    "    def __str__(self):\n",
    "        return(\"        {}:\\n\\\n",
    "        r = {}\\n\\\n",
    "        area = {}\\n\\\n",
    "        circumference = {}\"\\\n",
    "        .format(self.__class__.__name__,\\\n",
    "        self.r, self.area, self.circumference))\n",
    "    \n",
    "    @property\n",
    "    def circumference(self):\n",
    "        return 2*pi*self.r"
   ]
  },
  {
   "cell_type": "code",
   "execution_count": 42,
   "id": "07b3b586",
   "metadata": {},
   "outputs": [
    {
     "data": {
      "text/plain": [
       "78.53981633974483"
      ]
     },
     "execution_count": 42,
     "metadata": {},
     "output_type": "execute_result"
    }
   ],
   "source": [
    "circ = Circle(radius=5)\n",
    "circ.area"
   ]
  },
  {
   "cell_type": "code",
   "execution_count": 43,
   "id": "88ce3ff5",
   "metadata": {},
   "outputs": [
    {
     "data": {
      "text/plain": [
       "78.53981633974483"
      ]
     },
     "execution_count": 43,
     "metadata": {},
     "output_type": "execute_result"
    }
   ],
   "source": [
    "pi*5**2"
   ]
  },
  {
   "cell_type": "code",
   "execution_count": 44,
   "id": "51d06e1c",
   "metadata": {},
   "outputs": [
    {
     "data": {
      "text/plain": [
       "31.41592653589793"
      ]
     },
     "execution_count": 44,
     "metadata": {},
     "output_type": "execute_result"
    }
   ],
   "source": [
    "circ.circumference"
   ]
  },
  {
   "cell_type": "code",
   "execution_count": 45,
   "id": "45d60259",
   "metadata": {},
   "outputs": [
    {
     "data": {
      "text/plain": [
       "<__main__.Circle: r=5>"
      ]
     },
     "execution_count": 45,
     "metadata": {},
     "output_type": "execute_result"
    }
   ],
   "source": [
    "circ"
   ]
  },
  {
   "cell_type": "code",
   "execution_count": 46,
   "id": "4371fe2d",
   "metadata": {},
   "outputs": [
    {
     "name": "stdout",
     "output_type": "stream",
     "text": [
      "        Circle:\n",
      "        r = 5\n",
      "        area = 78.53981633974483\n",
      "        circumference = 31.41592653589793\n"
     ]
    }
   ],
   "source": [
    "print(circ)"
   ]
  },
  {
   "cell_type": "code",
   "execution_count": 47,
   "id": "a41f44ee",
   "metadata": {},
   "outputs": [
    {
     "data": {
      "text/plain": [
       "<__main__.Circle: r=8.246211251235321>"
      ]
     },
     "execution_count": 47,
     "metadata": {},
     "output_type": "execute_result"
    }
   ],
   "source": [
    "Circle(8) + Circle(2)"
   ]
  },
  {
   "cell_type": "code",
   "execution_count": 48,
   "id": "7b0f8fdd",
   "metadata": {},
   "outputs": [
    {
     "data": {
      "text/plain": [
       "<__main__.Circle: r=7.745966692414834>"
      ]
     },
     "execution_count": 48,
     "metadata": {},
     "output_type": "execute_result"
    }
   ],
   "source": [
    "Circle(8) - Circle(2)"
   ]
  },
  {
   "cell_type": "code",
   "execution_count": 49,
   "id": "dc89cb32",
   "metadata": {},
   "outputs": [
    {
     "name": "stdout",
     "output_type": "stream",
     "text": [
      "['__add__', '__class__', '__delattr__', '__dict__', '__dir__', '__doc__', '__eq__', '__format__', '__ge__', '__getattribute__', '__gt__', '__hash__', '__init__', '__init_subclass__', '__le__', '__lt__', '__module__', '__ne__', '__new__', '__reduce__', '__reduce_ex__', '__repr__', '__setattr__', '__sizeof__', '__str__', '__sub__', '__subclasshook__', '__weakref__', 'a', 'area', 'b', 'circumference', 'eccentricity', 'r']\n"
     ]
    }
   ],
   "source": [
    "print(dir(circ))"
   ]
  },
  {
   "cell_type": "code",
   "execution_count": 50,
   "id": "c44ce087",
   "metadata": {},
   "outputs": [
    {
     "data": {
      "text/plain": [
       "True"
      ]
     },
     "execution_count": 50,
     "metadata": {},
     "output_type": "execute_result"
    }
   ],
   "source": [
    "issubclass(Circle, Ellipse)"
   ]
  },
  {
   "cell_type": "code",
   "execution_count": 51,
   "id": "e75e1ef3",
   "metadata": {},
   "outputs": [
    {
     "data": {
      "text/plain": [
       "(__main__.Ellipse,)"
      ]
     },
     "execution_count": 51,
     "metadata": {},
     "output_type": "execute_result"
    }
   ],
   "source": [
    "Circle.__bases__"
   ]
  },
  {
   "cell_type": "code",
   "execution_count": 52,
   "id": "222f8072",
   "metadata": {},
   "outputs": [
    {
     "data": {
      "text/plain": [
       "(__main__.Circle, __main__.Ellipse, object)"
      ]
     },
     "execution_count": 52,
     "metadata": {},
     "output_type": "execute_result"
    }
   ],
   "source": [
    "# Retrieve the method resolution order (MRO)\n",
    "import inspect\n",
    "inspect.getmro(circ.__class__)"
   ]
  },
  {
   "cell_type": "markdown",
   "id": "007518f2",
   "metadata": {},
   "source": [
    "### ... which implies ```Circle``` $\\in$ ```Ellipse``` $\\in$ ```object```"
   ]
  },
  {
   "cell_type": "markdown",
   "id": "4e63cf79",
   "metadata": {},
   "source": [
    "## 3. Python program structure"
   ]
  },
  {
   "cell_type": "markdown",
   "id": "a460f5c2",
   "metadata": {},
   "source": [
    "### Preamble\n",
    "\n",
    "```python\n",
    "\n",
    "# Import statements\n",
    "import xxx\n",
    "import xxx as x\n",
    "import xx, yy\n",
    "from xxx import yyy\n",
    "from xxx import yyy as y\n",
    "from xxx import xy, xz\n",
    "\n",
    "```\n",
    "\n",
    "### Definitions\n",
    "\n",
    "```python\n",
    "\n",
    "# Constants definitions\n",
    "RT = 300\n",
    "PI = 3.1415926\n",
    "\n",
    "folder = r'...'\n",
    "\n",
    "# Function definitions\n",
    "def func1(x, y, z):\n",
    "    \n",
    "    ...\n",
    "    \n",
    "    return ...\n",
    "\n",
    "def func2(x, y, z):\n",
    "    \n",
    "    ...\n",
    "    \n",
    "    return ...\n",
    "    \n",
    "# Class definitions\n",
    "class Cls1(object):\n",
    "    \n",
    "    def __init__(self,...):\n",
    "        pass\n",
    "    \n",
    "    ...\n",
    "    \n",
    "class Cls2(object):\n",
    "    \n",
    "    def __init__(self,...):\n",
    "        pass\n",
    "```\n",
    "\n",
    "### Executables\n",
    "\n",
    "```python\n",
    "\n",
    "do something\n",
    "print(something)\n",
    "\n",
    "```"
   ]
  },
  {
   "cell_type": "code",
   "execution_count": null,
   "id": "e565d08c",
   "metadata": {},
   "outputs": [],
   "source": []
  }
 ],
 "metadata": {
  "kernelspec": {
   "display_name": "Python 3",
   "language": "python",
   "name": "python3"
  },
  "language_info": {
   "codemirror_mode": {
    "name": "ipython",
    "version": 3
   },
   "file_extension": ".py",
   "mimetype": "text/x-python",
   "name": "python",
   "nbconvert_exporter": "python",
   "pygments_lexer": "ipython3",
   "version": "3.8.8"
  }
 },
 "nbformat": 4,
 "nbformat_minor": 5
}
