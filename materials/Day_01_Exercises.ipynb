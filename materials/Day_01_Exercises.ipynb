{
 "cells": [
  {
   "cell_type": "markdown",
   "id": "435b2b79",
   "metadata": {},
   "source": [
    "#### Problem 1: \n",
    "(a) A variable named var_x takes any input you assign. The input value should be an integer. If the input is float or object or string, print \"invalid input\". \n",
    "\n",
    "(b) Now, pass this var_x to another variable named var_y. Then print that \"second variable received the number (it should show the input value) from the first variable\".\n",
    "\n",
    "Hint: \n",
    "\n",
    "1. The syntax to check python datatype is type(var_y) where you want to check the type of var_y i.e. whether it is a string or an integer.\n",
    "\n",
    "2. Search Problem1 in the other notebook."
   ]
  },
  {
   "cell_type": "code",
   "execution_count": null,
   "id": "6e619d41",
   "metadata": {},
   "outputs": [],
   "source": [
    "#(a)\n",
    "var_x=2.1\n",
    "if type(var_x) is int:\n",
    "    print('good job')\n",
    "else:\n",
    "    print('invalid input')\n",
    "var_y=var_x\n",
    "print('second variable received the number {}'.format(var_x))\n",
    "\n",
    "#(b)\n",
    "\n"
   ]
  },
  {
   "cell_type": "markdown",
   "id": "b1b4cb51",
   "metadata": {},
   "source": [
    "#### Problem 2 \n",
    "\n",
    "You are given a chemical formula of the form C_{n1}H_{n2}... . You should decide whether it is alkene or alkane. If it is none of them, then print \"invalid formula\"\n",
    "\n",
    "formula for Alkene is $C_{n}H_{2n}$ and formula for Alkane is $C_{n}H_{2n+2}$.\n",
    "\n",
    "Check the following cases:\n",
    "(i) C2H4  (ii) C2H6 (iii)C2H5\n",
    "\n",
    "\n",
    "Conditions: Length of the up_formula should be 4. Otherwise, print \"invalid\"\n",
    "\n",
    "\n",
    "Hints: (1) Search Problem2 in the other notebook.\n",
    "\n",
    "(2) To access nth element of a list use your_list[n-1].\n",
    "\n",
    "(3) change datatype of any element in the list if needed. for example x=['a','2'] . To make the last element an integer, do x[1]=int(x[1])"
   ]
  },
  {
   "cell_type": "code",
   "execution_count": null,
   "id": "75a5d41d",
   "metadata": {},
   "outputs": [],
   "source": [
    "formula=input()\n",
    "up_formula=list(formula)\n",
    "print(up_formula)"
   ]
  },
  {
   "cell_type": "code",
   "execution_count": null,
   "id": "87dadfab",
   "metadata": {},
   "outputs": [],
   "source": [
    "#Use the above 2 lines of code as a starting point for problem 2. Write formula = (i) C2H4, (ii) C2H6 , (iii) C2H5 \n",
    "if len(up_formula)!=4:\n",
    "    print('invalid formula')\n",
    "else:\n",
    "    c_count=int(up_formula[1])\n",
    "    h_count=int(up_formula[3])\n",
    "    if h_count==2*c_count:\n",
    "        print(\"Alkene\")\n",
    "    elif h_count==2*c_count+2:\n",
    "        print(\"Alkane\")\n",
    "    else:\n",
    "        print('invalid formula')\n"
   ]
  },
  {
   "cell_type": "markdown",
   "id": "4a0c18fc",
   "metadata": {},
   "source": [
    "#### Problem 3: \n",
    "\n",
    "You are given a string and your code should decide whether it is a palindrome sequence or not.\n",
    "Palindrome: input == reverse(input) (when input and reverse of the input are same, then it is a palindrome)\n",
    "\n"
   ]
  },
  {
   "cell_type": "code",
   "execution_count": null,
   "id": "06a60a47",
   "metadata": {},
   "outputs": [],
   "source": [
    "x=\"abccba\"\n",
    "\n",
    "\n",
    "\n"
   ]
  },
  {
   "cell_type": "markdown",
   "id": "b683587f",
   "metadata": {},
   "source": [
    "#### Problem 4\n",
    "dna_sequence contains a random sequence of DNA: could you find how many times 'cag' is repeated."
   ]
  },
  {
   "cell_type": "code",
   "execution_count": null,
   "id": "6711003c",
   "metadata": {},
   "outputs": [],
   "source": [
    "dna_sequence='cgcgacaggacagaccacttcagacataggaaacggataagtgaaatgccttcaatgcattagcgagatattcgtctgagttcacatacgcgtatcgatctgtaaacgacgtaactaggggttcttagacttccacaccaattacaaaatgcgggcgaaaatacgcactggttctgattatatcactgagcattaccaggcgtgggagcaccgtctaatacacgtgata'"
   ]
  },
  {
   "cell_type": "code",
   "execution_count": null,
   "id": "da32b919",
   "metadata": {},
   "outputs": [],
   "source": []
  }
 ],
 "metadata": {
  "kernelspec": {
   "display_name": "Python 3 (ipykernel)",
   "language": "python",
   "name": "python3"
  },
  "language_info": {
   "codemirror_mode": {
    "name": "ipython",
    "version": 3
   },
   "file_extension": ".py",
   "mimetype": "text/x-python",
   "name": "python",
   "nbconvert_exporter": "python",
   "pygments_lexer": "ipython3",
   "version": "3.9.5"
  }
 },
 "nbformat": 4,
 "nbformat_minor": 5
}
